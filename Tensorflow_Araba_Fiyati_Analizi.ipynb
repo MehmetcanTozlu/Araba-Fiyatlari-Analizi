{
 "cells": [
  {
   "cell_type": "markdown",
   "id": "ce4b80f4",
   "metadata": {},
   "source": [
    "# Ingilterede satilan Mercedes-Benz araba modeli icin merc.xlsx veri setimizi analiz edip yeni veriler icin bir tahminleme modeli yapalim."
   ]
  },
  {
   "cell_type": "markdown",
   "id": "aef3466d",
   "metadata": {},
   "source": [
    "### Gerkeli libraries ekleyelim;"
   ]
  },
  {
   "cell_type": "code",
   "execution_count": 1,
   "id": "65dddd24",
   "metadata": {},
   "outputs": [],
   "source": [
    "import numpy as np\n",
    "import pandas as pd\n",
    "import matplotlib.pyplot as plt\n",
    "import seaborn as sns"
   ]
  },
  {
   "cell_type": "code",
   "execution_count": 2,
   "id": "aa1009a3",
   "metadata": {},
   "outputs": [],
   "source": [
    "%matplotlib inline"
   ]
  },
  {
   "cell_type": "markdown",
   "id": "1887ef45",
   "metadata": {},
   "source": [
    "### Veri setimizi getirelim;"
   ]
  },
  {
   "cell_type": "code",
   "execution_count": 3,
   "id": "c6037030",
   "metadata": {},
   "outputs": [],
   "source": [
    "df = pd.read_excel('merc.xlsx')"
   ]
  },
  {
   "cell_type": "code",
   "execution_count": 4,
   "id": "23ded4d0",
   "metadata": {},
   "outputs": [
    {
     "data": {
      "text/html": [
       "<div>\n",
       "<style scoped>\n",
       "    .dataframe tbody tr th:only-of-type {\n",
       "        vertical-align: middle;\n",
       "    }\n",
       "\n",
       "    .dataframe tbody tr th {\n",
       "        vertical-align: top;\n",
       "    }\n",
       "\n",
       "    .dataframe thead th {\n",
       "        text-align: right;\n",
       "    }\n",
       "</style>\n",
       "<table border=\"1\" class=\"dataframe\">\n",
       "  <thead>\n",
       "    <tr style=\"text-align: right;\">\n",
       "      <th></th>\n",
       "      <th>year</th>\n",
       "      <th>price</th>\n",
       "      <th>transmission</th>\n",
       "      <th>mileage</th>\n",
       "      <th>tax</th>\n",
       "      <th>mpg</th>\n",
       "      <th>engineSize</th>\n",
       "    </tr>\n",
       "  </thead>\n",
       "  <tbody>\n",
       "    <tr>\n",
       "      <th>0</th>\n",
       "      <td>2005</td>\n",
       "      <td>5200</td>\n",
       "      <td>Automatic</td>\n",
       "      <td>63000</td>\n",
       "      <td>325</td>\n",
       "      <td>32.1</td>\n",
       "      <td>1.8</td>\n",
       "    </tr>\n",
       "    <tr>\n",
       "      <th>1</th>\n",
       "      <td>2017</td>\n",
       "      <td>34948</td>\n",
       "      <td>Automatic</td>\n",
       "      <td>27000</td>\n",
       "      <td>20</td>\n",
       "      <td>61.4</td>\n",
       "      <td>2.1</td>\n",
       "    </tr>\n",
       "    <tr>\n",
       "      <th>2</th>\n",
       "      <td>2016</td>\n",
       "      <td>49948</td>\n",
       "      <td>Automatic</td>\n",
       "      <td>6200</td>\n",
       "      <td>555</td>\n",
       "      <td>28.0</td>\n",
       "      <td>5.5</td>\n",
       "    </tr>\n",
       "    <tr>\n",
       "      <th>3</th>\n",
       "      <td>2016</td>\n",
       "      <td>61948</td>\n",
       "      <td>Automatic</td>\n",
       "      <td>16000</td>\n",
       "      <td>325</td>\n",
       "      <td>30.4</td>\n",
       "      <td>4.0</td>\n",
       "    </tr>\n",
       "    <tr>\n",
       "      <th>4</th>\n",
       "      <td>2016</td>\n",
       "      <td>73948</td>\n",
       "      <td>Automatic</td>\n",
       "      <td>4000</td>\n",
       "      <td>325</td>\n",
       "      <td>30.1</td>\n",
       "      <td>4.0</td>\n",
       "    </tr>\n",
       "    <tr>\n",
       "      <th>5</th>\n",
       "      <td>2011</td>\n",
       "      <td>149948</td>\n",
       "      <td>Automatic</td>\n",
       "      <td>3000</td>\n",
       "      <td>570</td>\n",
       "      <td>21.4</td>\n",
       "      <td>6.2</td>\n",
       "    </tr>\n",
       "    <tr>\n",
       "      <th>6</th>\n",
       "      <td>2018</td>\n",
       "      <td>30948</td>\n",
       "      <td>Automatic</td>\n",
       "      <td>16000</td>\n",
       "      <td>145</td>\n",
       "      <td>47.9</td>\n",
       "      <td>2.1</td>\n",
       "    </tr>\n",
       "    <tr>\n",
       "      <th>7</th>\n",
       "      <td>2012</td>\n",
       "      <td>10948</td>\n",
       "      <td>Automatic</td>\n",
       "      <td>107000</td>\n",
       "      <td>265</td>\n",
       "      <td>36.7</td>\n",
       "      <td>3.5</td>\n",
       "    </tr>\n",
       "    <tr>\n",
       "      <th>8</th>\n",
       "      <td>2019</td>\n",
       "      <td>139948</td>\n",
       "      <td>Automatic</td>\n",
       "      <td>12000</td>\n",
       "      <td>145</td>\n",
       "      <td>21.4</td>\n",
       "      <td>4.0</td>\n",
       "    </tr>\n",
       "    <tr>\n",
       "      <th>9</th>\n",
       "      <td>2017</td>\n",
       "      <td>19750</td>\n",
       "      <td>Automatic</td>\n",
       "      <td>15258</td>\n",
       "      <td>30</td>\n",
       "      <td>64.2</td>\n",
       "      <td>2.1</td>\n",
       "    </tr>\n",
       "  </tbody>\n",
       "</table>\n",
       "</div>"
      ],
      "text/plain": [
       "   year   price transmission  mileage  tax   mpg  engineSize\n",
       "0  2005    5200    Automatic    63000  325  32.1         1.8\n",
       "1  2017   34948    Automatic    27000   20  61.4         2.1\n",
       "2  2016   49948    Automatic     6200  555  28.0         5.5\n",
       "3  2016   61948    Automatic    16000  325  30.4         4.0\n",
       "4  2016   73948    Automatic     4000  325  30.1         4.0\n",
       "5  2011  149948    Automatic     3000  570  21.4         6.2\n",
       "6  2018   30948    Automatic    16000  145  47.9         2.1\n",
       "7  2012   10948    Automatic   107000  265  36.7         3.5\n",
       "8  2019  139948    Automatic    12000  145  21.4         4.0\n",
       "9  2017   19750    Automatic    15258   30  64.2         2.1"
      ]
     },
     "execution_count": 4,
     "metadata": {},
     "output_type": "execute_result"
    }
   ],
   "source": [
    "df.head(10)"
   ]
  },
  {
   "cell_type": "markdown",
   "id": "ba6c4375",
   "metadata": {},
   "source": [
    "### Verilerimiz hakkinda biraz bilgi sahibi olalim;"
   ]
  },
  {
   "cell_type": "code",
   "execution_count": 5,
   "id": "a4801243",
   "metadata": {},
   "outputs": [
    {
     "data": {
      "text/html": [
       "<div>\n",
       "<style scoped>\n",
       "    .dataframe tbody tr th:only-of-type {\n",
       "        vertical-align: middle;\n",
       "    }\n",
       "\n",
       "    .dataframe tbody tr th {\n",
       "        vertical-align: top;\n",
       "    }\n",
       "\n",
       "    .dataframe thead th {\n",
       "        text-align: right;\n",
       "    }\n",
       "</style>\n",
       "<table border=\"1\" class=\"dataframe\">\n",
       "  <thead>\n",
       "    <tr style=\"text-align: right;\">\n",
       "      <th></th>\n",
       "      <th>year</th>\n",
       "      <th>price</th>\n",
       "      <th>mileage</th>\n",
       "      <th>tax</th>\n",
       "      <th>mpg</th>\n",
       "      <th>engineSize</th>\n",
       "    </tr>\n",
       "  </thead>\n",
       "  <tbody>\n",
       "    <tr>\n",
       "      <th>count</th>\n",
       "      <td>13119.000000</td>\n",
       "      <td>13119.000000</td>\n",
       "      <td>13119.000000</td>\n",
       "      <td>13119.000000</td>\n",
       "      <td>13119.000000</td>\n",
       "      <td>13119.000000</td>\n",
       "    </tr>\n",
       "    <tr>\n",
       "      <th>mean</th>\n",
       "      <td>2017.296288</td>\n",
       "      <td>24698.596920</td>\n",
       "      <td>21949.559037</td>\n",
       "      <td>129.972178</td>\n",
       "      <td>55.155843</td>\n",
       "      <td>2.071530</td>\n",
       "    </tr>\n",
       "    <tr>\n",
       "      <th>std</th>\n",
       "      <td>2.224709</td>\n",
       "      <td>11842.675542</td>\n",
       "      <td>21176.512267</td>\n",
       "      <td>65.260286</td>\n",
       "      <td>15.220082</td>\n",
       "      <td>0.572426</td>\n",
       "    </tr>\n",
       "    <tr>\n",
       "      <th>min</th>\n",
       "      <td>1970.000000</td>\n",
       "      <td>650.000000</td>\n",
       "      <td>1.000000</td>\n",
       "      <td>0.000000</td>\n",
       "      <td>1.100000</td>\n",
       "      <td>0.000000</td>\n",
       "    </tr>\n",
       "    <tr>\n",
       "      <th>25%</th>\n",
       "      <td>2016.000000</td>\n",
       "      <td>17450.000000</td>\n",
       "      <td>6097.500000</td>\n",
       "      <td>125.000000</td>\n",
       "      <td>45.600000</td>\n",
       "      <td>1.800000</td>\n",
       "    </tr>\n",
       "    <tr>\n",
       "      <th>50%</th>\n",
       "      <td>2018.000000</td>\n",
       "      <td>22480.000000</td>\n",
       "      <td>15189.000000</td>\n",
       "      <td>145.000000</td>\n",
       "      <td>56.500000</td>\n",
       "      <td>2.000000</td>\n",
       "    </tr>\n",
       "    <tr>\n",
       "      <th>75%</th>\n",
       "      <td>2019.000000</td>\n",
       "      <td>28980.000000</td>\n",
       "      <td>31779.500000</td>\n",
       "      <td>145.000000</td>\n",
       "      <td>64.200000</td>\n",
       "      <td>2.100000</td>\n",
       "    </tr>\n",
       "    <tr>\n",
       "      <th>max</th>\n",
       "      <td>2020.000000</td>\n",
       "      <td>159999.000000</td>\n",
       "      <td>259000.000000</td>\n",
       "      <td>580.000000</td>\n",
       "      <td>217.300000</td>\n",
       "      <td>6.200000</td>\n",
       "    </tr>\n",
       "  </tbody>\n",
       "</table>\n",
       "</div>"
      ],
      "text/plain": [
       "               year          price        mileage           tax           mpg  \\\n",
       "count  13119.000000   13119.000000   13119.000000  13119.000000  13119.000000   \n",
       "mean    2017.296288   24698.596920   21949.559037    129.972178     55.155843   \n",
       "std        2.224709   11842.675542   21176.512267     65.260286     15.220082   \n",
       "min     1970.000000     650.000000       1.000000      0.000000      1.100000   \n",
       "25%     2016.000000   17450.000000    6097.500000    125.000000     45.600000   \n",
       "50%     2018.000000   22480.000000   15189.000000    145.000000     56.500000   \n",
       "75%     2019.000000   28980.000000   31779.500000    145.000000     64.200000   \n",
       "max     2020.000000  159999.000000  259000.000000    580.000000    217.300000   \n",
       "\n",
       "         engineSize  \n",
       "count  13119.000000  \n",
       "mean       2.071530  \n",
       "std        0.572426  \n",
       "min        0.000000  \n",
       "25%        1.800000  \n",
       "50%        2.000000  \n",
       "75%        2.100000  \n",
       "max        6.200000  "
      ]
     },
     "execution_count": 5,
     "metadata": {},
     "output_type": "execute_result"
    }
   ],
   "source": [
    "df.describe()"
   ]
  },
  {
   "cell_type": "markdown",
   "id": "202b5c2a",
   "metadata": {},
   "source": [
    "### Verilerimiz icinde null olan degerler var mı ona bakalim;"
   ]
  },
  {
   "cell_type": "code",
   "execution_count": 6,
   "id": "b96005fb",
   "metadata": {},
   "outputs": [
    {
     "data": {
      "text/plain": [
       "year            0\n",
       "price           0\n",
       "transmission    0\n",
       "mileage         0\n",
       "tax             0\n",
       "mpg             0\n",
       "engineSize      0\n",
       "dtype: int64"
      ]
     },
     "execution_count": 6,
     "metadata": {},
     "output_type": "execute_result"
    }
   ],
   "source": [
    "df.isnull().sum()"
   ]
  },
  {
   "cell_type": "code",
   "execution_count": 7,
   "id": "6cdc6d47",
   "metadata": {},
   "outputs": [
    {
     "data": {
      "text/plain": [
       "<seaborn.axisgrid.FacetGrid at 0x2213e40e190>"
      ]
     },
     "execution_count": 7,
     "metadata": {},
     "output_type": "execute_result"
    },
    {
     "data": {
      "text/plain": [
       "<Figure size 504x360 with 0 Axes>"
      ]
     },
     "metadata": {},
     "output_type": "display_data"
    },
    {
     "data": {
      "image/png": "[encoded data removed]",
      "text/plain": [
       "<Figure size 360x360 with 1 Axes>"
      ]
     },
     "metadata": {
      "needs_background": "light"
     },
     "output_type": "display_data"
    }
   ],
   "source": [
    "plt.figure(figsize=(7, 5))\n",
    "sns.displot(df['price'])"
   ]
  },
  {
   "cell_type": "markdown",
   "id": "9bde8cf4",
   "metadata": {},
   "source": [
    "Graikte de goruldugu gibi ana dagilim 20-30k price arasindadir. 160k'ya kadar olan araba sayisi genel araba sayisina oranla fazlaca az gibi gorunuyor. Bu da bizim ortalama araba fiyatlarimizi arttirabilir. Saglikli tahminler etmemizi bu veriler zorlastirabilir."
   ]
  },
  {
   "cell_type": "markdown",
   "id": "a2865fc2",
   "metadata": {},
   "source": [
    "### Hangi yilda ne kadar araba var onu gorelim;"
   ]
  },
  {
   "cell_type": "code",
   "execution_count": 8,
   "id": "7b4fa9af",
   "metadata": {},
   "outputs": [
    {
     "data": {
      "text/plain": [
       "<AxesSubplot:xlabel='year', ylabel='count'>"
      ]
     },
     "execution_count": 8,
     "metadata": {},
     "output_type": "execute_result"
    },
    {
     "data": {
      "image/png": "[encoded data removed]",
      "text/plain": [
       "<Figure size 432x288 with 1 Axes>"
      ]
     },
     "metadata": {
      "needs_background": "light"
     },
     "output_type": "display_data"
    }
   ],
   "source": [
    "sns.countplot(x='year', data=df) # df'mizde gruplamak istedigimiz column ve df ismimiz"
   ]
  },
  {
   "cell_type": "markdown",
   "id": "4349e178",
   "metadata": {},
   "source": [
    "### Verilerimizin birbirleri arasindaki Korelasyona(iliskisine) bakalim;\n",
    "\n",
    "Korelasyon: 2 veri arasinda ki dogrusal iliskinin yonunu ve gucunu gosterir. Degerin buyuk olmasi o degeri ne kadar etkiledigi anlamina gelmektedir. "
   ]
  },
  {
   "cell_type": "code",
   "execution_count": 9,
   "id": "730df497",
   "metadata": {},
   "outputs": [
    {
     "data": {
      "text/html": [
       "<div>\n",
       "<style scoped>\n",
       "    .dataframe tbody tr th:only-of-type {\n",
       "        vertical-align: middle;\n",
       "    }\n",
       "\n",
       "    .dataframe tbody tr th {\n",
       "        vertical-align: top;\n",
       "    }\n",
       "\n",
       "    .dataframe thead th {\n",
       "        text-align: right;\n",
       "    }\n",
       "</style>\n",
       "<table border=\"1\" class=\"dataframe\">\n",
       "  <thead>\n",
       "    <tr style=\"text-align: right;\">\n",
       "      <th></th>\n",
       "      <th>year</th>\n",
       "      <th>price</th>\n",
       "      <th>mileage</th>\n",
       "      <th>tax</th>\n",
       "      <th>mpg</th>\n",
       "      <th>engineSize</th>\n",
       "    </tr>\n",
       "  </thead>\n",
       "  <tbody>\n",
       "    <tr>\n",
       "      <th>year</th>\n",
       "      <td>1.000000</td>\n",
       "      <td>0.520712</td>\n",
       "      <td>-0.738027</td>\n",
       "      <td>0.012480</td>\n",
       "      <td>-0.094626</td>\n",
       "      <td>-0.142147</td>\n",
       "    </tr>\n",
       "    <tr>\n",
       "      <th>price</th>\n",
       "      <td>0.520712</td>\n",
       "      <td>1.000000</td>\n",
       "      <td>-0.537214</td>\n",
       "      <td>0.268717</td>\n",
       "      <td>-0.438445</td>\n",
       "      <td>0.516126</td>\n",
       "    </tr>\n",
       "    <tr>\n",
       "      <th>mileage</th>\n",
       "      <td>-0.738027</td>\n",
       "      <td>-0.537214</td>\n",
       "      <td>1.000000</td>\n",
       "      <td>-0.160223</td>\n",
       "      <td>0.202850</td>\n",
       "      <td>0.063652</td>\n",
       "    </tr>\n",
       "    <tr>\n",
       "      <th>tax</th>\n",
       "      <td>0.012480</td>\n",
       "      <td>0.268717</td>\n",
       "      <td>-0.160223</td>\n",
       "      <td>1.000000</td>\n",
       "      <td>-0.513742</td>\n",
       "      <td>0.338341</td>\n",
       "    </tr>\n",
       "    <tr>\n",
       "      <th>mpg</th>\n",
       "      <td>-0.094626</td>\n",
       "      <td>-0.438445</td>\n",
       "      <td>0.202850</td>\n",
       "      <td>-0.513742</td>\n",
       "      <td>1.000000</td>\n",
       "      <td>-0.339862</td>\n",
       "    </tr>\n",
       "    <tr>\n",
       "      <th>engineSize</th>\n",
       "      <td>-0.142147</td>\n",
       "      <td>0.516126</td>\n",
       "      <td>0.063652</td>\n",
       "      <td>0.338341</td>\n",
       "      <td>-0.339862</td>\n",
       "      <td>1.000000</td>\n",
       "    </tr>\n",
       "  </tbody>\n",
       "</table>\n",
       "</div>"
      ],
      "text/plain": [
       "                year     price   mileage       tax       mpg  engineSize\n",
       "year        1.000000  0.520712 -0.738027  0.012480 -0.094626   -0.142147\n",
       "price       0.520712  1.000000 -0.537214  0.268717 -0.438445    0.516126\n",
       "mileage    -0.738027 -0.537214  1.000000 -0.160223  0.202850    0.063652\n",
       "tax         0.012480  0.268717 -0.160223  1.000000 -0.513742    0.338341\n",
       "mpg        -0.094626 -0.438445  0.202850 -0.513742  1.000000   -0.339862\n",
       "engineSize -0.142147  0.516126  0.063652  0.338341 -0.339862    1.000000"
      ]
     },
     "execution_count": 9,
     "metadata": {},
     "output_type": "execute_result"
    }
   ],
   "source": [
    "df.corr()"
   ]
  },
  {
   "cell_type": "markdown",
   "id": "7b2e4447",
   "metadata": {},
   "source": [
    "#### Sadece price sutununa gore korelasyon;"
   ]
  },
  {
   "cell_type": "code",
   "execution_count": 10,
   "id": "e0c1d2d6",
   "metadata": {},
   "outputs": [
    {
     "data": {
      "text/plain": [
       "mileage      -0.537214\n",
       "mpg          -0.438445\n",
       "tax           0.268717\n",
       "engineSize    0.516126\n",
       "year          0.520712\n",
       "price         1.000000\n",
       "Name: price, dtype: float64"
      ]
     },
     "execution_count": 10,
     "metadata": {},
     "output_type": "execute_result"
    }
   ],
   "source": [
    "df.corr()['price'].sort_values()"
   ]
  },
  {
   "cell_type": "markdown",
   "id": "243d0f43",
   "metadata": {},
   "source": [
    "'year' verileri price verilerini en fazla etkileyen etken! year, engineSize, tax verileri price degerini arttirirken,\n",
    "mpg ve mileage degerleri price degerini azalir."
   ]
  },
  {
   "cell_type": "markdown",
   "id": "ce04928b",
   "metadata": {},
   "source": [
    "### Farkli bir grafiksel tabloda verilerimizin dagilimina tekrar bakalim;"
   ]
  },
  {
   "cell_type": "code",
   "execution_count": 11,
   "id": "7143f98d",
   "metadata": {},
   "outputs": [
    {
     "data": {
      "text/plain": [
       "<AxesSubplot:xlabel='year', ylabel='price'>"
      ]
     },
     "execution_count": 11,
     "metadata": {},
     "output_type": "execute_result"
    },
    {
     "data": {
      "image/png": "[encoded data removed]",
      "text/plain": [
       "<Figure size 432x288 with 1 Axes>"
      ]
     },
     "metadata": {
      "needs_background": "light"
     },
     "output_type": "display_data"
    }
   ],
   "source": [
    "sns.scatterplot(x='year', y='price', data=df) # x -> featur / y -> output"
   ]
  },
  {
   "cell_type": "markdown",
   "id": "fb749c5b",
   "metadata": {},
   "source": [
    "### Verilerimiz icindeki fiyatlandirmalara bir bakalim;"
   ]
  },
  {
   "cell_type": "code",
   "execution_count": 12,
   "id": "9bae1f8e",
   "metadata": {
    "scrolled": true
   },
   "outputs": [
    {
     "data": {
      "text/html": [
       "<div>\n",
       "<style scoped>\n",
       "    .dataframe tbody tr th:only-of-type {\n",
       "        vertical-align: middle;\n",
       "    }\n",
       "\n",
       "    .dataframe tbody tr th {\n",
       "        vertical-align: top;\n",
       "    }\n",
       "\n",
       "    .dataframe thead th {\n",
       "        text-align: right;\n",
       "    }\n",
       "</style>\n",
       "<table border=\"1\" class=\"dataframe\">\n",
       "  <thead>\n",
       "    <tr style=\"text-align: right;\">\n",
       "      <th></th>\n",
       "      <th>year</th>\n",
       "      <th>price</th>\n",
       "      <th>transmission</th>\n",
       "      <th>mileage</th>\n",
       "      <th>tax</th>\n",
       "      <th>mpg</th>\n",
       "      <th>engineSize</th>\n",
       "    </tr>\n",
       "  </thead>\n",
       "  <tbody>\n",
       "    <tr>\n",
       "      <th>6199</th>\n",
       "      <td>2020</td>\n",
       "      <td>159999</td>\n",
       "      <td>Semi-Auto</td>\n",
       "      <td>1350</td>\n",
       "      <td>145</td>\n",
       "      <td>21.4</td>\n",
       "      <td>4.0</td>\n",
       "    </tr>\n",
       "    <tr>\n",
       "      <th>10044</th>\n",
       "      <td>2020</td>\n",
       "      <td>154998</td>\n",
       "      <td>Automatic</td>\n",
       "      <td>3000</td>\n",
       "      <td>150</td>\n",
       "      <td>21.4</td>\n",
       "      <td>4.0</td>\n",
       "    </tr>\n",
       "    <tr>\n",
       "      <th>5</th>\n",
       "      <td>2011</td>\n",
       "      <td>149948</td>\n",
       "      <td>Automatic</td>\n",
       "      <td>3000</td>\n",
       "      <td>570</td>\n",
       "      <td>21.4</td>\n",
       "      <td>6.2</td>\n",
       "    </tr>\n",
       "    <tr>\n",
       "      <th>8737</th>\n",
       "      <td>2019</td>\n",
       "      <td>140319</td>\n",
       "      <td>Semi-Auto</td>\n",
       "      <td>785</td>\n",
       "      <td>150</td>\n",
       "      <td>22.1</td>\n",
       "      <td>4.0</td>\n",
       "    </tr>\n",
       "    <tr>\n",
       "      <th>6386</th>\n",
       "      <td>2018</td>\n",
       "      <td>139995</td>\n",
       "      <td>Semi-Auto</td>\n",
       "      <td>13046</td>\n",
       "      <td>145</td>\n",
       "      <td>21.4</td>\n",
       "      <td>4.0</td>\n",
       "    </tr>\n",
       "    <tr>\n",
       "      <th>8</th>\n",
       "      <td>2019</td>\n",
       "      <td>139948</td>\n",
       "      <td>Automatic</td>\n",
       "      <td>12000</td>\n",
       "      <td>145</td>\n",
       "      <td>21.4</td>\n",
       "      <td>4.0</td>\n",
       "    </tr>\n",
       "    <tr>\n",
       "      <th>9133</th>\n",
       "      <td>2019</td>\n",
       "      <td>139559</td>\n",
       "      <td>Semi-Auto</td>\n",
       "      <td>1000</td>\n",
       "      <td>145</td>\n",
       "      <td>22.1</td>\n",
       "      <td>4.0</td>\n",
       "    </tr>\n",
       "    <tr>\n",
       "      <th>8821</th>\n",
       "      <td>2020</td>\n",
       "      <td>138439</td>\n",
       "      <td>Semi-Auto</td>\n",
       "      <td>1000</td>\n",
       "      <td>145</td>\n",
       "      <td>22.1</td>\n",
       "      <td>4.0</td>\n",
       "    </tr>\n",
       "    <tr>\n",
       "      <th>5902</th>\n",
       "      <td>2018</td>\n",
       "      <td>135771</td>\n",
       "      <td>Semi-Auto</td>\n",
       "      <td>19000</td>\n",
       "      <td>145</td>\n",
       "      <td>21.4</td>\n",
       "      <td>4.0</td>\n",
       "    </tr>\n",
       "    <tr>\n",
       "      <th>7864</th>\n",
       "      <td>2018</td>\n",
       "      <td>135124</td>\n",
       "      <td>Semi-Auto</td>\n",
       "      <td>18234</td>\n",
       "      <td>150</td>\n",
       "      <td>21.4</td>\n",
       "      <td>4.0</td>\n",
       "    </tr>\n",
       "    <tr>\n",
       "      <th>8673</th>\n",
       "      <td>2019</td>\n",
       "      <td>134219</td>\n",
       "      <td>Semi-Auto</td>\n",
       "      <td>1000</td>\n",
       "      <td>145</td>\n",
       "      <td>24.8</td>\n",
       "      <td>4.0</td>\n",
       "    </tr>\n",
       "    <tr>\n",
       "      <th>6210</th>\n",
       "      <td>2019</td>\n",
       "      <td>129990</td>\n",
       "      <td>Automatic</td>\n",
       "      <td>1000</td>\n",
       "      <td>145</td>\n",
       "      <td>24.8</td>\n",
       "      <td>4.0</td>\n",
       "    </tr>\n",
       "    <tr>\n",
       "      <th>4759</th>\n",
       "      <td>2019</td>\n",
       "      <td>126000</td>\n",
       "      <td>Automatic</td>\n",
       "      <td>250</td>\n",
       "      <td>145</td>\n",
       "      <td>24.6</td>\n",
       "      <td>4.0</td>\n",
       "    </tr>\n",
       "    <tr>\n",
       "      <th>2647</th>\n",
       "      <td>2019</td>\n",
       "      <td>125796</td>\n",
       "      <td>Automatic</td>\n",
       "      <td>637</td>\n",
       "      <td>145</td>\n",
       "      <td>24.8</td>\n",
       "      <td>4.0</td>\n",
       "    </tr>\n",
       "    <tr>\n",
       "      <th>6223</th>\n",
       "      <td>2019</td>\n",
       "      <td>124999</td>\n",
       "      <td>Automatic</td>\n",
       "      <td>1500</td>\n",
       "      <td>145</td>\n",
       "      <td>31.7</td>\n",
       "      <td>4.0</td>\n",
       "    </tr>\n",
       "    <tr>\n",
       "      <th>4094</th>\n",
       "      <td>2019</td>\n",
       "      <td>124366</td>\n",
       "      <td>Semi-Auto</td>\n",
       "      <td>880</td>\n",
       "      <td>145</td>\n",
       "      <td>24.8</td>\n",
       "      <td>4.0</td>\n",
       "    </tr>\n",
       "    <tr>\n",
       "      <th>2629</th>\n",
       "      <td>2019</td>\n",
       "      <td>123846</td>\n",
       "      <td>Semi-Auto</td>\n",
       "      <td>2951</td>\n",
       "      <td>145</td>\n",
       "      <td>22.1</td>\n",
       "      <td>4.0</td>\n",
       "    </tr>\n",
       "    <tr>\n",
       "      <th>7134</th>\n",
       "      <td>2019</td>\n",
       "      <td>115359</td>\n",
       "      <td>Semi-Auto</td>\n",
       "      <td>1000</td>\n",
       "      <td>145</td>\n",
       "      <td>30.1</td>\n",
       "      <td>4.0</td>\n",
       "    </tr>\n",
       "    <tr>\n",
       "      <th>9159</th>\n",
       "      <td>2019</td>\n",
       "      <td>114199</td>\n",
       "      <td>Semi-Auto</td>\n",
       "      <td>891</td>\n",
       "      <td>145</td>\n",
       "      <td>22.6</td>\n",
       "      <td>4.0</td>\n",
       "    </tr>\n",
       "    <tr>\n",
       "      <th>1980</th>\n",
       "      <td>2019</td>\n",
       "      <td>109995</td>\n",
       "      <td>Semi-Auto</td>\n",
       "      <td>4688</td>\n",
       "      <td>150</td>\n",
       "      <td>31.7</td>\n",
       "      <td>4.0</td>\n",
       "    </tr>\n",
       "  </tbody>\n",
       "</table>\n",
       "</div>"
      ],
      "text/plain": [
       "       year   price transmission  mileage  tax   mpg  engineSize\n",
       "6199   2020  159999    Semi-Auto     1350  145  21.4         4.0\n",
       "10044  2020  154998    Automatic     3000  150  21.4         4.0\n",
       "5      2011  149948    Automatic     3000  570  21.4         6.2\n",
       "8737   2019  140319    Semi-Auto      785  150  22.1         4.0\n",
       "6386   2018  139995    Semi-Auto    13046  145  21.4         4.0\n",
       "8      2019  139948    Automatic    12000  145  21.4         4.0\n",
       "9133   2019  139559    Semi-Auto     1000  145  22.1         4.0\n",
       "8821   2020  138439    Semi-Auto     1000  145  22.1         4.0\n",
       "5902   2018  135771    Semi-Auto    19000  145  21.4         4.0\n",
       "7864   2018  135124    Semi-Auto    18234  150  21.4         4.0\n",
       "8673   2019  134219    Semi-Auto     1000  145  24.8         4.0\n",
       "6210   2019  129990    Automatic     1000  145  24.8         4.0\n",
       "4759   2019  126000    Automatic      250  145  24.6         4.0\n",
       "2647   2019  125796    Automatic      637  145  24.8         4.0\n",
       "6223   2019  124999    Automatic     1500  145  31.7         4.0\n",
       "4094   2019  124366    Semi-Auto      880  145  24.8         4.0\n",
       "2629   2019  123846    Semi-Auto     2951  145  22.1         4.0\n",
       "7134   2019  115359    Semi-Auto     1000  145  30.1         4.0\n",
       "9159   2019  114199    Semi-Auto      891  145  22.6         4.0\n",
       "1980   2019  109995    Semi-Auto     4688  150  31.7         4.0"
      ]
     },
     "execution_count": 12,
     "metadata": {},
     "output_type": "execute_result"
    }
   ],
   "source": [
    "df.sort_values('price', ascending=False).head(20) # fiyatlara gore azalan ilk 20 veriyi getirdik"
   ]
  },
  {
   "cell_type": "markdown",
   "id": "a0b08e95",
   "metadata": {},
   "source": [
    "#### Genel dagilima gore price degeri fazla olan arabalari veri setimizden cikaralim\n",
    "\n",
    "Veri setimizin %99'u nu almak veri setimizi bozmayabilir.\n",
    "Bu veri setimizde 13k old. %1'i 130 civarina gelmektedir. O %1'lik kismida en yuksek fiyatli arabalardan cikarirsak nasil bir tablo olusur gorelim;"
   ]
  },
  {
   "cell_type": "code",
   "execution_count": 13,
   "id": "48940366",
   "metadata": {},
   "outputs": [
    {
     "data": {
      "text/plain": [
       "13119"
      ]
     },
     "execution_count": 13,
     "metadata": {},
     "output_type": "execute_result"
    }
   ],
   "source": [
    "len(df) # toplam data"
   ]
  },
  {
   "cell_type": "code",
   "execution_count": 14,
   "id": "774d86c3",
   "metadata": {},
   "outputs": [
    {
     "data": {
      "text/plain": [
       "131.19"
      ]
     },
     "execution_count": 14,
     "metadata": {},
     "output_type": "execute_result"
    }
   ],
   "source": [
    "len(df) * 0.01 # %1'i"
   ]
  },
  {
   "cell_type": "markdown",
   "id": "ed6ef09e",
   "metadata": {},
   "source": [
    "### Verilerimizden en yuksek price'a sahip %1'lik kismi cikaralim;"
   ]
  },
  {
   "cell_type": "code",
   "execution_count": 15,
   "id": "0758c046",
   "metadata": {},
   "outputs": [],
   "source": [
    "yuzdeDoksanDokuzlukDf = df.sort_values('price', ascending=False).iloc[131:] # %1'inden sonraki kisimlari bu sekilde almis olduk"
   ]
  },
  {
   "cell_type": "code",
   "execution_count": 16,
   "id": "a2175152",
   "metadata": {},
   "outputs": [
    {
     "data": {
      "text/html": [
       "<div>\n",
       "<style scoped>\n",
       "    .dataframe tbody tr th:only-of-type {\n",
       "        vertical-align: middle;\n",
       "    }\n",
       "\n",
       "    .dataframe tbody tr th {\n",
       "        vertical-align: top;\n",
       "    }\n",
       "\n",
       "    .dataframe thead th {\n",
       "        text-align: right;\n",
       "    }\n",
       "</style>\n",
       "<table border=\"1\" class=\"dataframe\">\n",
       "  <thead>\n",
       "    <tr style=\"text-align: right;\">\n",
       "      <th></th>\n",
       "      <th>year</th>\n",
       "      <th>price</th>\n",
       "      <th>transmission</th>\n",
       "      <th>mileage</th>\n",
       "      <th>tax</th>\n",
       "      <th>mpg</th>\n",
       "      <th>engineSize</th>\n",
       "    </tr>\n",
       "  </thead>\n",
       "  <tbody>\n",
       "    <tr>\n",
       "      <th>6177</th>\n",
       "      <td>2019</td>\n",
       "      <td>65990</td>\n",
       "      <td>Semi-Auto</td>\n",
       "      <td>5076</td>\n",
       "      <td>150</td>\n",
       "      <td>30.4</td>\n",
       "      <td>3.0</td>\n",
       "    </tr>\n",
       "    <tr>\n",
       "      <th>5779</th>\n",
       "      <td>2020</td>\n",
       "      <td>65990</td>\n",
       "      <td>Semi-Auto</td>\n",
       "      <td>999</td>\n",
       "      <td>145</td>\n",
       "      <td>28.0</td>\n",
       "      <td>4.0</td>\n",
       "    </tr>\n",
       "    <tr>\n",
       "      <th>3191</th>\n",
       "      <td>2020</td>\n",
       "      <td>65980</td>\n",
       "      <td>Semi-Auto</td>\n",
       "      <td>3999</td>\n",
       "      <td>145</td>\n",
       "      <td>28.0</td>\n",
       "      <td>4.0</td>\n",
       "    </tr>\n",
       "    <tr>\n",
       "      <th>4727</th>\n",
       "      <td>2019</td>\n",
       "      <td>65000</td>\n",
       "      <td>Semi-Auto</td>\n",
       "      <td>3398</td>\n",
       "      <td>145</td>\n",
       "      <td>27.2</td>\n",
       "      <td>4.0</td>\n",
       "    </tr>\n",
       "    <tr>\n",
       "      <th>8814</th>\n",
       "      <td>2019</td>\n",
       "      <td>64999</td>\n",
       "      <td>Semi-Auto</td>\n",
       "      <td>119</td>\n",
       "      <td>145</td>\n",
       "      <td>40.9</td>\n",
       "      <td>3.0</td>\n",
       "    </tr>\n",
       "    <tr>\n",
       "      <th>...</th>\n",
       "      <td>...</td>\n",
       "      <td>...</td>\n",
       "      <td>...</td>\n",
       "      <td>...</td>\n",
       "      <td>...</td>\n",
       "      <td>...</td>\n",
       "      <td>...</td>\n",
       "    </tr>\n",
       "    <tr>\n",
       "      <th>11549</th>\n",
       "      <td>2002</td>\n",
       "      <td>1495</td>\n",
       "      <td>Automatic</td>\n",
       "      <td>13800</td>\n",
       "      <td>305</td>\n",
       "      <td>39.8</td>\n",
       "      <td>2.7</td>\n",
       "    </tr>\n",
       "    <tr>\n",
       "      <th>12594</th>\n",
       "      <td>2004</td>\n",
       "      <td>1495</td>\n",
       "      <td>Manual</td>\n",
       "      <td>119000</td>\n",
       "      <td>300</td>\n",
       "      <td>34.5</td>\n",
       "      <td>1.8</td>\n",
       "    </tr>\n",
       "    <tr>\n",
       "      <th>11765</th>\n",
       "      <td>2000</td>\n",
       "      <td>1490</td>\n",
       "      <td>Automatic</td>\n",
       "      <td>87000</td>\n",
       "      <td>265</td>\n",
       "      <td>27.2</td>\n",
       "      <td>3.2</td>\n",
       "    </tr>\n",
       "    <tr>\n",
       "      <th>12008</th>\n",
       "      <td>2010</td>\n",
       "      <td>1350</td>\n",
       "      <td>Manual</td>\n",
       "      <td>116126</td>\n",
       "      <td>145</td>\n",
       "      <td>54.3</td>\n",
       "      <td>2.0</td>\n",
       "    </tr>\n",
       "    <tr>\n",
       "      <th>11816</th>\n",
       "      <td>2003</td>\n",
       "      <td>650</td>\n",
       "      <td>Manual</td>\n",
       "      <td>109090</td>\n",
       "      <td>235</td>\n",
       "      <td>40.0</td>\n",
       "      <td>1.4</td>\n",
       "    </tr>\n",
       "  </tbody>\n",
       "</table>\n",
       "<p>12988 rows × 7 columns</p>\n",
       "</div>"
      ],
      "text/plain": [
       "       year  price transmission  mileage  tax   mpg  engineSize\n",
       "6177   2019  65990    Semi-Auto     5076  150  30.4         3.0\n",
       "5779   2020  65990    Semi-Auto      999  145  28.0         4.0\n",
       "3191   2020  65980    Semi-Auto     3999  145  28.0         4.0\n",
       "4727   2019  65000    Semi-Auto     3398  145  27.2         4.0\n",
       "8814   2019  64999    Semi-Auto      119  145  40.9         3.0\n",
       "...     ...    ...          ...      ...  ...   ...         ...\n",
       "11549  2002   1495    Automatic    13800  305  39.8         2.7\n",
       "12594  2004   1495       Manual   119000  300  34.5         1.8\n",
       "11765  2000   1490    Automatic    87000  265  27.2         3.2\n",
       "12008  2010   1350       Manual   116126  145  54.3         2.0\n",
       "11816  2003    650       Manual   109090  235  40.0         1.4\n",
       "\n",
       "[12988 rows x 7 columns]"
      ]
     },
     "execution_count": 16,
     "metadata": {},
     "output_type": "execute_result"
    }
   ],
   "source": [
    "yuzdeDoksanDokuzlukDf"
   ]
  },
  {
   "cell_type": "markdown",
   "id": "d949d3b6",
   "metadata": {},
   "source": [
    "### %100'luk veri seti ile %99'luk veri setini karsilastiralim,"
   ]
  },
  {
   "cell_type": "code",
   "execution_count": 17,
   "id": "a745a021",
   "metadata": {},
   "outputs": [
    {
     "data": {
      "text/html": [
       "<div>\n",
       "<style scoped>\n",
       "    .dataframe tbody tr th:only-of-type {\n",
       "        vertical-align: middle;\n",
       "    }\n",
       "\n",
       "    .dataframe tbody tr th {\n",
       "        vertical-align: top;\n",
       "    }\n",
       "\n",
       "    .dataframe thead th {\n",
       "        text-align: right;\n",
       "    }\n",
       "</style>\n",
       "<table border=\"1\" class=\"dataframe\">\n",
       "  <thead>\n",
       "    <tr style=\"text-align: right;\">\n",
       "      <th></th>\n",
       "      <th>year</th>\n",
       "      <th>price</th>\n",
       "      <th>mileage</th>\n",
       "      <th>tax</th>\n",
       "      <th>mpg</th>\n",
       "      <th>engineSize</th>\n",
       "    </tr>\n",
       "  </thead>\n",
       "  <tbody>\n",
       "    <tr>\n",
       "      <th>count</th>\n",
       "      <td>12988.000000</td>\n",
       "      <td>12988.000000</td>\n",
       "      <td>12988.000000</td>\n",
       "      <td>12988.000000</td>\n",
       "      <td>12988.000000</td>\n",
       "      <td>12988.000000</td>\n",
       "    </tr>\n",
       "    <tr>\n",
       "      <th>mean</th>\n",
       "      <td>2017.281876</td>\n",
       "      <td>24074.926933</td>\n",
       "      <td>22132.741146</td>\n",
       "      <td>129.689714</td>\n",
       "      <td>55.437142</td>\n",
       "      <td>2.050901</td>\n",
       "    </tr>\n",
       "    <tr>\n",
       "      <th>std</th>\n",
       "      <td>2.228515</td>\n",
       "      <td>9866.224575</td>\n",
       "      <td>21196.776401</td>\n",
       "      <td>65.183076</td>\n",
       "      <td>15.025999</td>\n",
       "      <td>0.532596</td>\n",
       "    </tr>\n",
       "    <tr>\n",
       "      <th>min</th>\n",
       "      <td>1970.000000</td>\n",
       "      <td>650.000000</td>\n",
       "      <td>1.000000</td>\n",
       "      <td>0.000000</td>\n",
       "      <td>1.100000</td>\n",
       "      <td>0.000000</td>\n",
       "    </tr>\n",
       "    <tr>\n",
       "      <th>25%</th>\n",
       "      <td>2016.000000</td>\n",
       "      <td>17357.500000</td>\n",
       "      <td>6322.000000</td>\n",
       "      <td>125.000000</td>\n",
       "      <td>45.600000</td>\n",
       "      <td>1.675000</td>\n",
       "    </tr>\n",
       "    <tr>\n",
       "      <th>50%</th>\n",
       "      <td>2018.000000</td>\n",
       "      <td>22299.000000</td>\n",
       "      <td>15369.500000</td>\n",
       "      <td>145.000000</td>\n",
       "      <td>56.500000</td>\n",
       "      <td>2.000000</td>\n",
       "    </tr>\n",
       "    <tr>\n",
       "      <th>75%</th>\n",
       "      <td>2019.000000</td>\n",
       "      <td>28706.000000</td>\n",
       "      <td>31982.250000</td>\n",
       "      <td>145.000000</td>\n",
       "      <td>64.200000</td>\n",
       "      <td>2.100000</td>\n",
       "    </tr>\n",
       "    <tr>\n",
       "      <th>max</th>\n",
       "      <td>2020.000000</td>\n",
       "      <td>65990.000000</td>\n",
       "      <td>259000.000000</td>\n",
       "      <td>580.000000</td>\n",
       "      <td>217.300000</td>\n",
       "      <td>6.200000</td>\n",
       "    </tr>\n",
       "  </tbody>\n",
       "</table>\n",
       "</div>"
      ],
      "text/plain": [
       "               year         price        mileage           tax           mpg  \\\n",
       "count  12988.000000  12988.000000   12988.000000  12988.000000  12988.000000   \n",
       "mean    2017.281876  24074.926933   22132.741146    129.689714     55.437142   \n",
       "std        2.228515   9866.224575   21196.776401     65.183076     15.025999   \n",
       "min     1970.000000    650.000000       1.000000      0.000000      1.100000   \n",
       "25%     2016.000000  17357.500000    6322.000000    125.000000     45.600000   \n",
       "50%     2018.000000  22299.000000   15369.500000    145.000000     56.500000   \n",
       "75%     2019.000000  28706.000000   31982.250000    145.000000     64.200000   \n",
       "max     2020.000000  65990.000000  259000.000000    580.000000    217.300000   \n",
       "\n",
       "         engineSize  \n",
       "count  12988.000000  \n",
       "mean       2.050901  \n",
       "std        0.532596  \n",
       "min        0.000000  \n",
       "25%        1.675000  \n",
       "50%        2.000000  \n",
       "75%        2.100000  \n",
       "max        6.200000  "
      ]
     },
     "execution_count": 17,
     "metadata": {},
     "output_type": "execute_result"
    }
   ],
   "source": [
    "yuzdeDoksanDokuzlukDf.describe()"
   ]
  },
  {
   "cell_type": "code",
   "execution_count": 18,
   "id": "d0d57e30",
   "metadata": {},
   "outputs": [
    {
     "data": {
      "text/html": [
       "<div>\n",
       "<style scoped>\n",
       "    .dataframe tbody tr th:only-of-type {\n",
       "        vertical-align: middle;\n",
       "    }\n",
       "\n",
       "    .dataframe tbody tr th {\n",
       "        vertical-align: top;\n",
       "    }\n",
       "\n",
       "    .dataframe thead th {\n",
       "        text-align: right;\n",
       "    }\n",
       "</style>\n",
       "<table border=\"1\" class=\"dataframe\">\n",
       "  <thead>\n",
       "    <tr style=\"text-align: right;\">\n",
       "      <th></th>\n",
       "      <th>year</th>\n",
       "      <th>price</th>\n",
       "      <th>mileage</th>\n",
       "      <th>tax</th>\n",
       "      <th>mpg</th>\n",
       "      <th>engineSize</th>\n",
       "    </tr>\n",
       "  </thead>\n",
       "  <tbody>\n",
       "    <tr>\n",
       "      <th>count</th>\n",
       "      <td>13119.000000</td>\n",
       "      <td>13119.000000</td>\n",
       "      <td>13119.000000</td>\n",
       "      <td>13119.000000</td>\n",
       "      <td>13119.000000</td>\n",
       "      <td>13119.000000</td>\n",
       "    </tr>\n",
       "    <tr>\n",
       "      <th>mean</th>\n",
       "      <td>2017.296288</td>\n",
       "      <td>24698.596920</td>\n",
       "      <td>21949.559037</td>\n",
       "      <td>129.972178</td>\n",
       "      <td>55.155843</td>\n",
       "      <td>2.071530</td>\n",
       "    </tr>\n",
       "    <tr>\n",
       "      <th>std</th>\n",
       "      <td>2.224709</td>\n",
       "      <td>11842.675542</td>\n",
       "      <td>21176.512267</td>\n",
       "      <td>65.260286</td>\n",
       "      <td>15.220082</td>\n",
       "      <td>0.572426</td>\n",
       "    </tr>\n",
       "    <tr>\n",
       "      <th>min</th>\n",
       "      <td>1970.000000</td>\n",
       "      <td>650.000000</td>\n",
       "      <td>1.000000</td>\n",
       "      <td>0.000000</td>\n",
       "      <td>1.100000</td>\n",
       "      <td>0.000000</td>\n",
       "    </tr>\n",
       "    <tr>\n",
       "      <th>25%</th>\n",
       "      <td>2016.000000</td>\n",
       "      <td>17450.000000</td>\n",
       "      <td>6097.500000</td>\n",
       "      <td>125.000000</td>\n",
       "      <td>45.600000</td>\n",
       "      <td>1.800000</td>\n",
       "    </tr>\n",
       "    <tr>\n",
       "      <th>50%</th>\n",
       "      <td>2018.000000</td>\n",
       "      <td>22480.000000</td>\n",
       "      <td>15189.000000</td>\n",
       "      <td>145.000000</td>\n",
       "      <td>56.500000</td>\n",
       "      <td>2.000000</td>\n",
       "    </tr>\n",
       "    <tr>\n",
       "      <th>75%</th>\n",
       "      <td>2019.000000</td>\n",
       "      <td>28980.000000</td>\n",
       "      <td>31779.500000</td>\n",
       "      <td>145.000000</td>\n",
       "      <td>64.200000</td>\n",
       "      <td>2.100000</td>\n",
       "    </tr>\n",
       "    <tr>\n",
       "      <th>max</th>\n",
       "      <td>2020.000000</td>\n",
       "      <td>159999.000000</td>\n",
       "      <td>259000.000000</td>\n",
       "      <td>580.000000</td>\n",
       "      <td>217.300000</td>\n",
       "      <td>6.200000</td>\n",
       "    </tr>\n",
       "  </tbody>\n",
       "</table>\n",
       "</div>"
      ],
      "text/plain": [
       "               year          price        mileage           tax           mpg  \\\n",
       "count  13119.000000   13119.000000   13119.000000  13119.000000  13119.000000   \n",
       "mean    2017.296288   24698.596920   21949.559037    129.972178     55.155843   \n",
       "std        2.224709   11842.675542   21176.512267     65.260286     15.220082   \n",
       "min     1970.000000     650.000000       1.000000      0.000000      1.100000   \n",
       "25%     2016.000000   17450.000000    6097.500000    125.000000     45.600000   \n",
       "50%     2018.000000   22480.000000   15189.000000    145.000000     56.500000   \n",
       "75%     2019.000000   28980.000000   31779.500000    145.000000     64.200000   \n",
       "max     2020.000000  159999.000000  259000.000000    580.000000    217.300000   \n",
       "\n",
       "         engineSize  \n",
       "count  13119.000000  \n",
       "mean       2.071530  \n",
       "std        0.572426  \n",
       "min        0.000000  \n",
       "25%        1.800000  \n",
       "50%        2.000000  \n",
       "75%        2.100000  \n",
       "max        6.200000  "
      ]
     },
     "execution_count": 18,
     "metadata": {},
     "output_type": "execute_result"
    }
   ],
   "source": [
    "df.describe()"
   ]
  },
  {
   "cell_type": "code",
   "execution_count": 19,
   "id": "ac50ecdc",
   "metadata": {
    "scrolled": false
   },
   "outputs": [
    {
     "data": {
      "text/plain": [
       "<seaborn.axisgrid.FacetGrid at 0x2213e76a790>"
      ]
     },
     "execution_count": 19,
     "metadata": {},
     "output_type": "execute_result"
    },
    {
     "data": {
      "image/png": "[encoded data removed]",
      "text/plain": [
       "<Figure size 360x360 with 1 Axes>"
      ]
     },
     "metadata": {
      "needs_background": "light"
     },
     "output_type": "display_data"
    },
    {
     "data": {
      "image/png": "[encoded data removed]",
      "text/plain": [
       "<Figure size 360x360 with 1 Axes>"
      ]
     },
     "metadata": {
      "needs_background": "light"
     },
     "output_type": "display_data"
    }
   ],
   "source": [
    "sns.displot(data=yuzdeDoksanDokuzlukDf['price']) # %99'luk\n",
    "sns.displot(data=df['price']) # %100'luk"
   ]
  },
  {
   "cell_type": "markdown",
   "id": "f0aa9a91",
   "metadata": {},
   "source": [
    "### Cok daha homojen bir grafik elde ettik"
   ]
  },
  {
   "cell_type": "markdown",
   "id": "801e9f25",
   "metadata": {},
   "source": [
    "## Yillara gore satilan arac fiyatlarinin ortalamasini bulalim;"
   ]
  },
  {
   "cell_type": "code",
   "execution_count": 20,
   "id": "cbf8f57e",
   "metadata": {},
   "outputs": [
    {
     "data": {
      "text/plain": [
       "year\n",
       "1970    24999.000000\n",
       "1997     9995.000000\n",
       "1998     8605.000000\n",
       "1999     5995.000000\n",
       "2000     5743.333333\n",
       "2001     4957.900000\n",
       "2002     5820.444444\n",
       "2003     4878.000000\n",
       "2004     4727.615385\n",
       "2005     4426.111111\n",
       "2006     4036.875000\n",
       "2007     5136.045455\n",
       "2008     6967.437500\n",
       "2009     6166.764706\n",
       "2010     8308.473684\n",
       "2011    12624.894737\n",
       "2012    10845.140351\n",
       "2013    11939.842466\n",
       "2014    14042.936864\n",
       "2015    16731.780020\n",
       "2016    19307.892948\n",
       "2017    21514.307854\n",
       "2018    25720.162918\n",
       "2019    31290.020865\n",
       "2020    35433.282337\n",
       "Name: price, dtype: float64"
      ]
     },
     "execution_count": 20,
     "metadata": {},
     "output_type": "execute_result"
    }
   ],
   "source": [
    "df.groupby('year').mean()['price']"
   ]
  },
  {
   "cell_type": "markdown",
   "id": "756a66ac",
   "metadata": {},
   "source": [
    "1970 model arac neredeyse 2018 model araclarla ayni fiyata satilmis. Bu veri suan ki tablomuza gore aykiri veri olarak kabul edelim. Bu veriyi cikarmak istersek;"
   ]
  },
  {
   "cell_type": "code",
   "execution_count": 21,
   "id": "8570dd41",
   "metadata": {},
   "outputs": [
    {
     "data": {
      "text/plain": [
       "year\n",
       "1997     9995.000000\n",
       "1998     8605.000000\n",
       "1999     5995.000000\n",
       "2000     5743.333333\n",
       "2001     4957.900000\n",
       "2002     5820.444444\n",
       "2003     4878.000000\n",
       "2004     4727.615385\n",
       "2005     4426.111111\n",
       "2006     4036.875000\n",
       "2007     5136.045455\n",
       "2008     6967.437500\n",
       "2009     6166.764706\n",
       "2010     8308.473684\n",
       "2011    12624.894737\n",
       "2012    10845.140351\n",
       "2013    11939.842466\n",
       "2014    14042.936864\n",
       "2015    16731.780020\n",
       "2016    19307.892948\n",
       "2017    21514.307854\n",
       "2018    25720.162918\n",
       "2019    31290.020865\n",
       "2020    35433.282337\n",
       "Name: price, dtype: float64"
      ]
     },
     "execution_count": 21,
     "metadata": {},
     "output_type": "execute_result"
    }
   ],
   "source": [
    "df[df['year'] != 1970].groupby('year').mean()['price']"
   ]
  },
  {
   "cell_type": "markdown",
   "id": "4e5a9cfa",
   "metadata": {},
   "source": [
    "## Gerekli temizlemeyi yaptiktan sonra data setimizi son haline guncelleyelim;"
   ]
  },
  {
   "cell_type": "code",
   "execution_count": 22,
   "id": "fcf9484e",
   "metadata": {},
   "outputs": [],
   "source": [
    "df = yuzdeDoksanDokuzlukDf"
   ]
  },
  {
   "cell_type": "code",
   "execution_count": 23,
   "id": "8a98e8ee",
   "metadata": {},
   "outputs": [],
   "source": [
    "df = df[df['year'] != 1970]"
   ]
  },
  {
   "cell_type": "code",
   "execution_count": 24,
   "id": "a74cc81f",
   "metadata": {},
   "outputs": [
    {
     "data": {
      "text/plain": [
       "year\n",
       "1997     9995.000000\n",
       "1998     8605.000000\n",
       "1999     5995.000000\n",
       "2000     5743.333333\n",
       "2001     4957.900000\n",
       "2002     5820.444444\n",
       "2003     4878.000000\n",
       "2004     4727.615385\n",
       "2005     4426.111111\n",
       "2006     4036.875000\n",
       "2007     5136.045455\n",
       "2008     6967.437500\n",
       "2009     6166.764706\n",
       "2010     8308.473684\n",
       "2011     8913.459459\n",
       "2012    10845.140351\n",
       "2013    11939.842466\n",
       "2014    14042.936864\n",
       "2015    16647.822222\n",
       "2016    19223.558943\n",
       "2017    21356.280421\n",
       "2018    24800.844506\n",
       "2019    30289.524832\n",
       "2020    34234.794872\n",
       "Name: price, dtype: float64"
      ]
     },
     "execution_count": 24,
     "metadata": {},
     "output_type": "execute_result"
    }
   ],
   "source": [
    "df.groupby('year').mean()['price']"
   ]
  },
  {
   "cell_type": "code",
   "execution_count": 25,
   "id": "25fbc474",
   "metadata": {},
   "outputs": [
    {
     "data": {
      "text/html": [
       "<div>\n",
       "<style scoped>\n",
       "    .dataframe tbody tr th:only-of-type {\n",
       "        vertical-align: middle;\n",
       "    }\n",
       "\n",
       "    .dataframe tbody tr th {\n",
       "        vertical-align: top;\n",
       "    }\n",
       "\n",
       "    .dataframe thead th {\n",
       "        text-align: right;\n",
       "    }\n",
       "</style>\n",
       "<table border=\"1\" class=\"dataframe\">\n",
       "  <thead>\n",
       "    <tr style=\"text-align: right;\">\n",
       "      <th></th>\n",
       "      <th>year</th>\n",
       "      <th>price</th>\n",
       "      <th>transmission</th>\n",
       "      <th>mileage</th>\n",
       "      <th>tax</th>\n",
       "      <th>mpg</th>\n",
       "      <th>engineSize</th>\n",
       "    </tr>\n",
       "  </thead>\n",
       "  <tbody>\n",
       "    <tr>\n",
       "      <th>6177</th>\n",
       "      <td>2019</td>\n",
       "      <td>65990</td>\n",
       "      <td>Semi-Auto</td>\n",
       "      <td>5076</td>\n",
       "      <td>150</td>\n",
       "      <td>30.4</td>\n",
       "      <td>3.0</td>\n",
       "    </tr>\n",
       "    <tr>\n",
       "      <th>5779</th>\n",
       "      <td>2020</td>\n",
       "      <td>65990</td>\n",
       "      <td>Semi-Auto</td>\n",
       "      <td>999</td>\n",
       "      <td>145</td>\n",
       "      <td>28.0</td>\n",
       "      <td>4.0</td>\n",
       "    </tr>\n",
       "    <tr>\n",
       "      <th>3191</th>\n",
       "      <td>2020</td>\n",
       "      <td>65980</td>\n",
       "      <td>Semi-Auto</td>\n",
       "      <td>3999</td>\n",
       "      <td>145</td>\n",
       "      <td>28.0</td>\n",
       "      <td>4.0</td>\n",
       "    </tr>\n",
       "    <tr>\n",
       "      <th>4727</th>\n",
       "      <td>2019</td>\n",
       "      <td>65000</td>\n",
       "      <td>Semi-Auto</td>\n",
       "      <td>3398</td>\n",
       "      <td>145</td>\n",
       "      <td>27.2</td>\n",
       "      <td>4.0</td>\n",
       "    </tr>\n",
       "    <tr>\n",
       "      <th>8814</th>\n",
       "      <td>2019</td>\n",
       "      <td>64999</td>\n",
       "      <td>Semi-Auto</td>\n",
       "      <td>119</td>\n",
       "      <td>145</td>\n",
       "      <td>40.9</td>\n",
       "      <td>3.0</td>\n",
       "    </tr>\n",
       "  </tbody>\n",
       "</table>\n",
       "</div>"
      ],
      "text/plain": [
       "      year  price transmission  mileage  tax   mpg  engineSize\n",
       "6177  2019  65990    Semi-Auto     5076  150  30.4         3.0\n",
       "5779  2020  65990    Semi-Auto      999  145  28.0         4.0\n",
       "3191  2020  65980    Semi-Auto     3999  145  28.0         4.0\n",
       "4727  2019  65000    Semi-Auto     3398  145  27.2         4.0\n",
       "8814  2019  64999    Semi-Auto      119  145  40.9         3.0"
      ]
     },
     "execution_count": 25,
     "metadata": {},
     "output_type": "execute_result"
    }
   ],
   "source": [
    "df.head()"
   ]
  },
  {
   "cell_type": "markdown",
   "id": "7377c82b",
   "metadata": {},
   "source": [
    "### Veri Setimizi Regression'a sokmadan once transmission column'unu kaldiralim cunku transmission numeric bir deger olmadigindan hata verir!"
   ]
  },
  {
   "cell_type": "code",
   "execution_count": 26,
   "id": "fd1f35d6",
   "metadata": {},
   "outputs": [],
   "source": [
    "df = df.drop('transmission', axis=1)"
   ]
  },
  {
   "cell_type": "markdown",
   "id": "a7e1326a",
   "metadata": {},
   "source": [
    "## Veri temizligimizi bitirdik artik Regression'a sokabiliriz;\n",
    "### Verimizin son hali,"
   ]
  },
  {
   "cell_type": "code",
   "execution_count": 27,
   "id": "a81c5ffa",
   "metadata": {},
   "outputs": [
    {
     "data": {
      "text/html": [
       "<div>\n",
       "<style scoped>\n",
       "    .dataframe tbody tr th:only-of-type {\n",
       "        vertical-align: middle;\n",
       "    }\n",
       "\n",
       "    .dataframe tbody tr th {\n",
       "        vertical-align: top;\n",
       "    }\n",
       "\n",
       "    .dataframe thead th {\n",
       "        text-align: right;\n",
       "    }\n",
       "</style>\n",
       "<table border=\"1\" class=\"dataframe\">\n",
       "  <thead>\n",
       "    <tr style=\"text-align: right;\">\n",
       "      <th></th>\n",
       "      <th>year</th>\n",
       "      <th>price</th>\n",
       "      <th>mileage</th>\n",
       "      <th>tax</th>\n",
       "      <th>mpg</th>\n",
       "      <th>engineSize</th>\n",
       "    </tr>\n",
       "  </thead>\n",
       "  <tbody>\n",
       "    <tr>\n",
       "      <th>6177</th>\n",
       "      <td>2019</td>\n",
       "      <td>65990</td>\n",
       "      <td>5076</td>\n",
       "      <td>150</td>\n",
       "      <td>30.4</td>\n",
       "      <td>3.0</td>\n",
       "    </tr>\n",
       "    <tr>\n",
       "      <th>5779</th>\n",
       "      <td>2020</td>\n",
       "      <td>65990</td>\n",
       "      <td>999</td>\n",
       "      <td>145</td>\n",
       "      <td>28.0</td>\n",
       "      <td>4.0</td>\n",
       "    </tr>\n",
       "    <tr>\n",
       "      <th>3191</th>\n",
       "      <td>2020</td>\n",
       "      <td>65980</td>\n",
       "      <td>3999</td>\n",
       "      <td>145</td>\n",
       "      <td>28.0</td>\n",
       "      <td>4.0</td>\n",
       "    </tr>\n",
       "    <tr>\n",
       "      <th>4727</th>\n",
       "      <td>2019</td>\n",
       "      <td>65000</td>\n",
       "      <td>3398</td>\n",
       "      <td>145</td>\n",
       "      <td>27.2</td>\n",
       "      <td>4.0</td>\n",
       "    </tr>\n",
       "    <tr>\n",
       "      <th>8814</th>\n",
       "      <td>2019</td>\n",
       "      <td>64999</td>\n",
       "      <td>119</td>\n",
       "      <td>145</td>\n",
       "      <td>40.9</td>\n",
       "      <td>3.0</td>\n",
       "    </tr>\n",
       "  </tbody>\n",
       "</table>\n",
       "</div>"
      ],
      "text/plain": [
       "      year  price  mileage  tax   mpg  engineSize\n",
       "6177  2019  65990     5076  150  30.4         3.0\n",
       "5779  2020  65990      999  145  28.0         4.0\n",
       "3191  2020  65980     3999  145  28.0         4.0\n",
       "4727  2019  65000     3398  145  27.2         4.0\n",
       "8814  2019  64999      119  145  40.9         3.0"
      ]
     },
     "execution_count": 27,
     "metadata": {},
     "output_type": "execute_result"
    }
   ],
   "source": [
    "df.head()"
   ]
  },
  {
   "cell_type": "markdown",
   "id": "9a50df75",
   "metadata": {},
   "source": [
    "### X ve y(train ve test) verilerimizi olusturalim"
   ]
  },
  {
   "cell_type": "code",
   "execution_count": 28,
   "id": "c73faa14",
   "metadata": {},
   "outputs": [],
   "source": [
    "y = df['price'].values"
   ]
  },
  {
   "cell_type": "code",
   "execution_count": 29,
   "id": "03027c4e",
   "metadata": {},
   "outputs": [
    {
     "data": {
      "text/plain": [
       "array([65990, 65990, 65980, ...,  1490,  1350,   650], dtype=int64)"
      ]
     },
     "execution_count": 29,
     "metadata": {},
     "output_type": "execute_result"
    }
   ],
   "source": [
    "y"
   ]
  },
  {
   "cell_type": "code",
   "execution_count": 30,
   "id": "c213dbbe",
   "metadata": {},
   "outputs": [],
   "source": [
    "X = df.drop('price', axis=1).values"
   ]
  },
  {
   "cell_type": "code",
   "execution_count": 31,
   "id": "06ef48b4",
   "metadata": {},
   "outputs": [
    {
     "data": {
      "text/plain": [
       "array([65990, 65990, 65980, ...,  1490,  1350,   650], dtype=int64)"
      ]
     },
     "execution_count": 31,
     "metadata": {},
     "output_type": "execute_result"
    }
   ],
   "source": [
    "y"
   ]
  },
  {
   "cell_type": "code",
   "execution_count": 32,
   "id": "f7df7d53",
   "metadata": {},
   "outputs": [
    {
     "data": {
      "text/plain": [
       "array([[2.01900e+03, 5.07600e+03, 1.50000e+02, 3.04000e+01, 3.00000e+00],\n",
       "       [2.02000e+03, 9.99000e+02, 1.45000e+02, 2.80000e+01, 4.00000e+00],\n",
       "       [2.02000e+03, 3.99900e+03, 1.45000e+02, 2.80000e+01, 4.00000e+00],\n",
       "       ...,\n",
       "       [2.00000e+03, 8.70000e+04, 2.65000e+02, 2.72000e+01, 3.20000e+00],\n",
       "       [2.01000e+03, 1.16126e+05, 1.45000e+02, 5.43000e+01, 2.00000e+00],\n",
       "       [2.00300e+03, 1.09090e+05, 2.35000e+02, 4.00000e+01, 1.40000e+00]])"
      ]
     },
     "execution_count": 32,
     "metadata": {},
     "output_type": "execute_result"
    }
   ],
   "source": [
    "X"
   ]
  },
  {
   "cell_type": "markdown",
   "id": "9909ef6f",
   "metadata": {},
   "source": [
    "## test ve train olusturmamiz icin gerekli kutuphanemizi ekleyelim;"
   ]
  },
  {
   "cell_type": "code",
   "execution_count": 33,
   "id": "0cf4d011",
   "metadata": {},
   "outputs": [],
   "source": [
    "from sklearn.model_selection import train_test_split"
   ]
  },
  {
   "cell_type": "markdown",
   "id": "419bdfac",
   "metadata": {},
   "source": [
    "%33'luk kisim test verimiz icin ayrilsin.  \n",
    "Python bu bolme islemini yaparken surekli bizim verdigimiz random_state degerine gore bolme islemini yapar.  \n",
    "Yani ayni test verileriyle test yapmis olur."
   ]
  },
  {
   "cell_type": "code",
   "execution_count": 34,
   "id": "69ac46a4",
   "metadata": {},
   "outputs": [],
   "source": [
    "X_train, X_test, y_train, y_test = train_test_split(X, y, random_state=20, test_size=0.33)"
   ]
  },
  {
   "cell_type": "code",
   "execution_count": 35,
   "id": "a7578421",
   "metadata": {},
   "outputs": [],
   "source": [
    "from sklearn.preprocessing import MinMaxScaler"
   ]
  },
  {
   "cell_type": "code",
   "execution_count": 36,
   "id": "e519379f",
   "metadata": {},
   "outputs": [],
   "source": [
    "scaler = MinMaxScaler()"
   ]
  },
  {
   "cell_type": "code",
   "execution_count": 37,
   "id": "6748946f",
   "metadata": {},
   "outputs": [],
   "source": [
    "X_train = scaler.fit_transform(X_train)"
   ]
  },
  {
   "cell_type": "code",
   "execution_count": 38,
   "id": "bfe75612",
   "metadata": {},
   "outputs": [],
   "source": [
    "X_test = scaler.transform(X_test)"
   ]
  },
  {
   "cell_type": "code",
   "execution_count": 39,
   "id": "158c3547",
   "metadata": {},
   "outputs": [
    {
     "data": {
      "text/plain": [
       "array([[0.95652174, 0.01545566, 0.25      , 0.34508547, 0.24193548],\n",
       "       [0.95652174, 0.0185715 , 0.25      , 0.30235043, 0.32258065],\n",
       "       [0.95652174, 0.05469905, 0.25      , 0.26869658, 0.35483871],\n",
       "       ...,\n",
       "       [0.73913043, 0.05196545, 0.35344828, 0.2542735 , 0.48387097],\n",
       "       [0.73913043, 0.18723238, 0.25862069, 0.2633547 , 0.25806452],\n",
       "       [0.86956522, 0.08107753, 0.25      , 0.39102564, 0.24193548]])"
      ]
     },
     "execution_count": 39,
     "metadata": {},
     "output_type": "execute_result"
    }
   ],
   "source": [
    "X_test"
   ]
  },
  {
   "cell_type": "code",
   "execution_count": 40,
   "id": "106b5bb0",
   "metadata": {},
   "outputs": [
    {
     "data": {
      "text/plain": [
       "array([[0.95652174, 0.05208514, 0.25      , 0.23771368, 0.20967742],\n",
       "       [0.95652174, 0.05412376, 0.25      , 0.23771368, 0.20967742],\n",
       "       [0.91304348, 0.10833246, 0.25      , 0.32211538, 0.33870968],\n",
       "       ...,\n",
       "       [0.86956522, 0.1263364 , 0.25      , 0.29594017, 0.33870968],\n",
       "       [0.91304348, 0.04747895, 0.25      , 0.23771368, 0.24193548],\n",
       "       [0.91304348, 0.0886876 , 0.25      , 0.37126068, 0.33870968]])"
      ]
     },
     "execution_count": 40,
     "metadata": {},
     "output_type": "execute_result"
    }
   ],
   "source": [
    "X_train"
   ]
  },
  {
   "cell_type": "markdown",
   "id": "fef8e547",
   "metadata": {},
   "source": [
    "### X_train ve X_test degerlerimizi 0-1 arasina cektik"
   ]
  },
  {
   "cell_type": "code",
   "execution_count": 43,
   "id": "a0e7f303",
   "metadata": {},
   "outputs": [],
   "source": [
    "from tensorflow.keras.models import Sequential\n",
    "from tensorflow.keras.layers import Dense"
   ]
  },
  {
   "cell_type": "code",
   "execution_count": 44,
   "id": "a367bee2",
   "metadata": {},
   "outputs": [],
   "source": [
    "model = Sequential()\n",
    "\n",
    "# Perceptrons\n",
    "model.add(Dense(12, activation='relu'))\n",
    "model.add(Dense(12, activation='relu'))\n",
    "model.add(Dense(12, activation='relu'))\n",
    "model.add(Dense(12, activation='relu'))\n",
    "\n",
    "# Output\n",
    "model.add(Dense(1))\n",
    "\n",
    "model.compile(optimizer='adam', loss='mse')"
   ]
  },
  {
   "cell_type": "markdown",
   "id": "fb39ad7a",
   "metadata": {},
   "source": [
    "### Modelimizi egitelim;"
   ]
  },
  {
   "cell_type": "code",
   "execution_count": 45,
   "id": "9d9e3e35",
   "metadata": {},
   "outputs": [
    {
     "name": "stdout",
     "output_type": "stream",
     "text": [
      "Epoch 1/300\n",
      "35/35 [==============================] - 0s 5ms/step - loss: 676091008.0000 - val_loss: 678591616.0000\n",
      "Epoch 2/300\n",
      "35/35 [==============================] - 0s 2ms/step - loss: 676045760.0000 - val_loss: 678519872.0000\n",
      "Epoch 3/300\n",
      "35/35 [==============================] - 0s 2ms/step - loss: 675922880.0000 - val_loss: 678313408.0000\n",
      "Epoch 4/300\n",
      "35/35 [==============================] - 0s 2ms/step - loss: 675539520.0000 - val_loss: 677650944.0000\n",
      "Epoch 5/300\n",
      "35/35 [==============================] - 0s 2ms/step - loss: 674393472.0000 - val_loss: 675813440.0000\n",
      "Epoch 6/300\n",
      "35/35 [==============================] - 0s 2ms/step - loss: 671471296.0000 - val_loss: 671371136.0000\n",
      "Epoch 7/300\n",
      "35/35 [==============================] - 0s 2ms/step - loss: 664853952.0000 - val_loss: 661821504.0000\n",
      "Epoch 8/300\n",
      "35/35 [==============================] - 0s 2ms/step - loss: 651306112.0000 - val_loss: 643148672.0000\n",
      "Epoch 9/300\n",
      "35/35 [==============================] - 0s 2ms/step - loss: 626179008.0000 - val_loss: 609908800.0000\n",
      "Epoch 10/300\n",
      "35/35 [==============================] - 0s 2ms/step - loss: 583861632.0000 - val_loss: 556805824.0000\n",
      "Epoch 11/300\n",
      "35/35 [==============================] - 0s 2ms/step - loss: 519840864.0000 - val_loss: 480417888.0000\n",
      "Epoch 12/300\n",
      "35/35 [==============================] - 0s 2ms/step - loss: 433186112.0000 - val_loss: 382436800.0000\n",
      "Epoch 13/300\n",
      "35/35 [==============================] - 0s 2ms/step - loss: 329303840.0000 - val_loss: 274267264.0000\n",
      "Epoch 14/300\n",
      "35/35 [==============================] - 0s 2ms/step - loss: 225537024.0000 - val_loss: 178341520.0000\n",
      "Epoch 15/300\n",
      "35/35 [==============================] - 0s 2ms/step - loss: 146051040.0000 - val_loss: 117665056.0000\n",
      "Epoch 16/300\n",
      "35/35 [==============================] - 0s 2ms/step - loss: 104840280.0000 - val_loss: 93753912.0000\n",
      "Epoch 17/300\n",
      "35/35 [==============================] - 0s 2ms/step - loss: 92185624.0000 - val_loss: 87990936.0000\n",
      "Epoch 18/300\n",
      "35/35 [==============================] - 0s 2ms/step - loss: 89525128.0000 - val_loss: 86813720.0000\n",
      "Epoch 19/300\n",
      "35/35 [==============================] - 0s 2ms/step - loss: 88708456.0000 - val_loss: 86127952.0000\n",
      "Epoch 20/300\n",
      "35/35 [==============================] - 0s 2ms/step - loss: 88074912.0000 - val_loss: 85522064.0000\n",
      "Epoch 21/300\n",
      "35/35 [==============================] - 0s 2ms/step - loss: 87476280.0000 - val_loss: 84945968.0000\n",
      "Epoch 22/300\n",
      "35/35 [==============================] - 0s 2ms/step - loss: 86911376.0000 - val_loss: 84401664.0000\n",
      "Epoch 23/300\n",
      "35/35 [==============================] - 0s 2ms/step - loss: 86360056.0000 - val_loss: 83872944.0000\n",
      "Epoch 24/300\n",
      "35/35 [==============================] - 0s 2ms/step - loss: 85830128.0000 - val_loss: 83354224.0000\n",
      "Epoch 25/300\n",
      "35/35 [==============================] - 0s 2ms/step - loss: 85308808.0000 - val_loss: 82861032.0000\n",
      "Epoch 26/300\n",
      "35/35 [==============================] - 0s 2ms/step - loss: 84797856.0000 - val_loss: 82347232.0000\n",
      "Epoch 27/300\n",
      "35/35 [==============================] - 0s 2ms/step - loss: 84292344.0000 - val_loss: 81875496.0000\n",
      "Epoch 28/300\n",
      "35/35 [==============================] - 0s 2ms/step - loss: 83796400.0000 - val_loss: 81389904.0000\n",
      "Epoch 29/300\n",
      "35/35 [==============================] - 0s 2ms/step - loss: 83299064.0000 - val_loss: 80902944.0000\n",
      "Epoch 30/300\n",
      "35/35 [==============================] - 0s 2ms/step - loss: 82810144.0000 - val_loss: 80430184.0000\n",
      "Epoch 31/300\n",
      "35/35 [==============================] - 0s 2ms/step - loss: 82331496.0000 - val_loss: 79953584.0000\n",
      "Epoch 32/300\n",
      "35/35 [==============================] - 0s 2ms/step - loss: 81838776.0000 - val_loss: 79487752.0000\n",
      "Epoch 33/300\n",
      "35/35 [==============================] - 0s 2ms/step - loss: 81363480.0000 - val_loss: 79026544.0000\n",
      "Epoch 34/300\n",
      "35/35 [==============================] - 0s 2ms/step - loss: 80903016.0000 - val_loss: 78538344.0000\n",
      "Epoch 35/300\n",
      "35/35 [==============================] - 0s 2ms/step - loss: 80396864.0000 - val_loss: 78088128.0000\n",
      "Epoch 36/300\n",
      "35/35 [==============================] - 0s 2ms/step - loss: 79927736.0000 - val_loss: 77620840.0000\n",
      "Epoch 37/300\n",
      "35/35 [==============================] - 0s 2ms/step - loss: 79459200.0000 - val_loss: 77136648.0000\n",
      "Epoch 38/300\n",
      "35/35 [==============================] - 0s 2ms/step - loss: 78988104.0000 - val_loss: 76671192.0000\n",
      "Epoch 39/300\n",
      "35/35 [==============================] - 0s 2ms/step - loss: 78493752.0000 - val_loss: 76208688.0000\n",
      "Epoch 40/300\n",
      "35/35 [==============================] - 0s 2ms/step - loss: 78011568.0000 - val_loss: 75745504.0000\n",
      "Epoch 41/300\n",
      "35/35 [==============================] - 0s 2ms/step - loss: 77541536.0000 - val_loss: 75264480.0000\n",
      "Epoch 42/300\n",
      "35/35 [==============================] - 0s 2ms/step - loss: 77052800.0000 - val_loss: 74821592.0000\n",
      "Epoch 43/300\n",
      "35/35 [==============================] - 0s 2ms/step - loss: 76577528.0000 - val_loss: 74323768.0000\n",
      "Epoch 44/300\n",
      "35/35 [==============================] - 0s 2ms/step - loss: 76089184.0000 - val_loss: 73862720.0000\n",
      "Epoch 45/300\n",
      "35/35 [==============================] - 0s 2ms/step - loss: 75622352.0000 - val_loss: 73375520.0000\n",
      "Epoch 46/300\n",
      "35/35 [==============================] - 0s 2ms/step - loss: 75128208.0000 - val_loss: 72904792.0000\n",
      "Epoch 47/300\n",
      "35/35 [==============================] - 0s 2ms/step - loss: 74636816.0000 - val_loss: 72417192.0000\n",
      "Epoch 48/300\n",
      "35/35 [==============================] - 0s 2ms/step - loss: 74150680.0000 - val_loss: 71947208.0000\n",
      "Epoch 49/300\n",
      "35/35 [==============================] - 0s 2ms/step - loss: 73644712.0000 - val_loss: 71454072.0000\n",
      "Epoch 50/300\n",
      "35/35 [==============================] - 0s 2ms/step - loss: 73156152.0000 - val_loss: 70970944.0000\n",
      "Epoch 51/300\n",
      "35/35 [==============================] - 0s 2ms/step - loss: 72641344.0000 - val_loss: 70469608.0000\n",
      "Epoch 52/300\n",
      "35/35 [==============================] - 0s 2ms/step - loss: 72150072.0000 - val_loss: 69981216.0000\n",
      "Epoch 53/300\n",
      "35/35 [==============================] - 0s 2ms/step - loss: 71632696.0000 - val_loss: 69475768.0000\n",
      "Epoch 54/300\n",
      "35/35 [==============================] - 0s 2ms/step - loss: 71112520.0000 - val_loss: 68969416.0000\n",
      "Epoch 55/300\n",
      "35/35 [==============================] - 0s 2ms/step - loss: 70595528.0000 - val_loss: 68468448.0000\n",
      "Epoch 56/300\n",
      "35/35 [==============================] - 0s 2ms/step - loss: 70077216.0000 - val_loss: 67953104.0000\n",
      "Epoch 57/300\n",
      "35/35 [==============================] - 0s 2ms/step - loss: 69559560.0000 - val_loss: 67428200.0000\n",
      "Epoch 58/300\n",
      "35/35 [==============================] - 0s 2ms/step - loss: 69016512.0000 - val_loss: 66906476.0000\n",
      "Epoch 59/300\n",
      "35/35 [==============================] - 0s 2ms/step - loss: 68479720.0000 - val_loss: 66382740.0000\n",
      "Epoch 60/300\n",
      "35/35 [==============================] - 0s 2ms/step - loss: 67948368.0000 - val_loss: 65839008.0000\n",
      "Epoch 61/300\n",
      "35/35 [==============================] - 0s 2ms/step - loss: 67379728.0000 - val_loss: 65293904.0000\n",
      "Epoch 62/300\n",
      "35/35 [==============================] - 0s 2ms/step - loss: 66831092.0000 - val_loss: 64749956.0000\n",
      "Epoch 63/300\n",
      "35/35 [==============================] - 0s 2ms/step - loss: 66253184.0000 - val_loss: 64185600.0000\n",
      "Epoch 64/300\n",
      "35/35 [==============================] - 0s 2ms/step - loss: 65684284.0000 - val_loss: 63619100.0000\n",
      "Epoch 65/300\n",
      "35/35 [==============================] - 0s 2ms/step - loss: 65104708.0000 - val_loss: 63063128.0000\n",
      "Epoch 66/300\n",
      "35/35 [==============================] - 0s 2ms/step - loss: 64514660.0000 - val_loss: 62463788.0000\n",
      "Epoch 67/300\n",
      "35/35 [==============================] - 0s 2ms/step - loss: 63923532.0000 - val_loss: 61868960.0000\n",
      "Epoch 68/300\n",
      "35/35 [==============================] - 0s 2ms/step - loss: 63315716.0000 - val_loss: 61285124.0000\n",
      "Epoch 69/300\n",
      "35/35 [==============================] - 0s 2ms/step - loss: 62683576.0000 - val_loss: 60666428.0000\n",
      "Epoch 70/300\n",
      "35/35 [==============================] - 0s 2ms/step - loss: 62067932.0000 - val_loss: 60054696.0000\n",
      "Epoch 71/300\n",
      "35/35 [==============================] - 0s 2ms/step - loss: 61467184.0000 - val_loss: 59421880.0000\n",
      "Epoch 72/300\n"
     ]
    },
    {
     "name": "stdout",
     "output_type": "stream",
     "text": [
      "35/35 [==============================] - 0s 2ms/step - loss: 60787552.0000 - val_loss: 58783372.0000\n",
      "Epoch 73/300\n",
      "35/35 [==============================] - 0s 2ms/step - loss: 60144000.0000 - val_loss: 58134404.0000\n",
      "Epoch 74/300\n",
      "35/35 [==============================] - 0s 2ms/step - loss: 59470412.0000 - val_loss: 57470912.0000\n",
      "Epoch 75/300\n",
      "35/35 [==============================] - 0s 2ms/step - loss: 58774624.0000 - val_loss: 56793032.0000\n",
      "Epoch 76/300\n",
      "35/35 [==============================] - 0s 2ms/step - loss: 58074452.0000 - val_loss: 56114676.0000\n",
      "Epoch 77/300\n",
      "35/35 [==============================] - 0s 2ms/step - loss: 57368624.0000 - val_loss: 55412412.0000\n",
      "Epoch 78/300\n",
      "35/35 [==============================] - 0s 2ms/step - loss: 56648816.0000 - val_loss: 54706284.0000\n",
      "Epoch 79/300\n",
      "35/35 [==============================] - 0s 2ms/step - loss: 55911816.0000 - val_loss: 53993720.0000\n",
      "Epoch 80/300\n",
      "35/35 [==============================] - 0s 2ms/step - loss: 55169804.0000 - val_loss: 53243592.0000\n",
      "Epoch 81/300\n",
      "35/35 [==============================] - 0s 2ms/step - loss: 54422912.0000 - val_loss: 52487844.0000\n",
      "Epoch 82/300\n",
      "35/35 [==============================] - 0s 2ms/step - loss: 53643660.0000 - val_loss: 51713704.0000\n",
      "Epoch 83/300\n",
      "35/35 [==============================] - 0s 2ms/step - loss: 52895120.0000 - val_loss: 50942192.0000\n",
      "Epoch 84/300\n",
      "35/35 [==============================] - 0s 2ms/step - loss: 52057232.0000 - val_loss: 50161692.0000\n",
      "Epoch 85/300\n",
      "35/35 [==============================] - 0s 2ms/step - loss: 51256656.0000 - val_loss: 49367352.0000\n",
      "Epoch 86/300\n",
      "35/35 [==============================] - 0s 2ms/step - loss: 50441228.0000 - val_loss: 48565840.0000\n",
      "Epoch 87/300\n",
      "35/35 [==============================] - 0s 2ms/step - loss: 49606748.0000 - val_loss: 47722560.0000\n",
      "Epoch 88/300\n",
      "35/35 [==============================] - 0s 2ms/step - loss: 48780304.0000 - val_loss: 46900612.0000\n",
      "Epoch 89/300\n",
      "35/35 [==============================] - 0s 2ms/step - loss: 47937684.0000 - val_loss: 46073020.0000\n",
      "Epoch 90/300\n",
      "35/35 [==============================] - 0s 2ms/step - loss: 47091552.0000 - val_loss: 45235228.0000\n",
      "Epoch 91/300\n",
      "35/35 [==============================] - 0s 2ms/step - loss: 46246552.0000 - val_loss: 44387316.0000\n",
      "Epoch 92/300\n",
      "35/35 [==============================] - 0s 2ms/step - loss: 45380772.0000 - val_loss: 43530096.0000\n",
      "Epoch 93/300\n",
      "35/35 [==============================] - 0s 2ms/step - loss: 44508692.0000 - val_loss: 42681396.0000\n",
      "Epoch 94/300\n",
      "35/35 [==============================] - 0s 2ms/step - loss: 43652892.0000 - val_loss: 41845372.0000\n",
      "Epoch 95/300\n",
      "35/35 [==============================] - 0s 2ms/step - loss: 42791400.0000 - val_loss: 40999052.0000\n",
      "Epoch 96/300\n",
      "35/35 [==============================] - 0s 2ms/step - loss: 41972224.0000 - val_loss: 40212852.0000\n",
      "Epoch 97/300\n",
      "35/35 [==============================] - 0s 2ms/step - loss: 41105940.0000 - val_loss: 39343980.0000\n",
      "Epoch 98/300\n",
      "35/35 [==============================] - 0s 2ms/step - loss: 40318660.0000 - val_loss: 38509032.0000\n",
      "Epoch 99/300\n",
      "35/35 [==============================] - 0s 2ms/step - loss: 39489552.0000 - val_loss: 37707144.0000\n",
      "Epoch 100/300\n",
      "35/35 [==============================] - 0s 2ms/step - loss: 38682880.0000 - val_loss: 36942324.0000\n",
      "Epoch 101/300\n",
      "35/35 [==============================] - 0s 2ms/step - loss: 37910940.0000 - val_loss: 36178728.0000\n",
      "Epoch 102/300\n",
      "35/35 [==============================] - 0s 2ms/step - loss: 37167168.0000 - val_loss: 35394576.0000\n",
      "Epoch 103/300\n",
      "35/35 [==============================] - 0s 2ms/step - loss: 36400580.0000 - val_loss: 34638736.0000\n",
      "Epoch 104/300\n",
      "35/35 [==============================] - 0s 2ms/step - loss: 35680500.0000 - val_loss: 33935792.0000\n",
      "Epoch 105/300\n",
      "35/35 [==============================] - 0s 2ms/step - loss: 35014824.0000 - val_loss: 33334310.0000\n",
      "Epoch 106/300\n",
      "35/35 [==============================] - 0s 2ms/step - loss: 34333772.0000 - val_loss: 32584416.0000\n",
      "Epoch 107/300\n",
      "35/35 [==============================] - 0s 2ms/step - loss: 33717140.0000 - val_loss: 31983834.0000\n",
      "Epoch 108/300\n",
      "35/35 [==============================] - 0s 2ms/step - loss: 33140190.0000 - val_loss: 31369906.0000\n",
      "Epoch 109/300\n",
      "35/35 [==============================] - 0s 2ms/step - loss: 32540292.0000 - val_loss: 30827556.0000\n",
      "Epoch 110/300\n",
      "35/35 [==============================] - 0s 2ms/step - loss: 31988998.0000 - val_loss: 30255216.0000\n",
      "Epoch 111/300\n",
      "35/35 [==============================] - 0s 2ms/step - loss: 31492100.0000 - val_loss: 29745668.0000\n",
      "Epoch 112/300\n",
      "35/35 [==============================] - 0s 2ms/step - loss: 31054194.0000 - val_loss: 29273864.0000\n",
      "Epoch 113/300\n",
      "35/35 [==============================] - 0s 2ms/step - loss: 30580382.0000 - val_loss: 28823050.0000\n",
      "Epoch 114/300\n",
      "35/35 [==============================] - 0s 2ms/step - loss: 30146168.0000 - val_loss: 28389058.0000\n",
      "Epoch 115/300\n",
      "35/35 [==============================] - 0s 2ms/step - loss: 29742844.0000 - val_loss: 28004984.0000\n",
      "Epoch 116/300\n",
      "35/35 [==============================] - 0s 2ms/step - loss: 29381356.0000 - val_loss: 27648586.0000\n",
      "Epoch 117/300\n",
      "35/35 [==============================] - 0s 2ms/step - loss: 29035554.0000 - val_loss: 27272428.0000\n",
      "Epoch 118/300\n",
      "35/35 [==============================] - 0s 2ms/step - loss: 28711936.0000 - val_loss: 26938238.0000\n",
      "Epoch 119/300\n",
      "35/35 [==============================] - 0s 2ms/step - loss: 28431312.0000 - val_loss: 26620774.0000\n",
      "Epoch 120/300\n",
      "35/35 [==============================] - 0s 2ms/step - loss: 28052594.0000 - val_loss: 26291102.0000\n",
      "Epoch 121/300\n",
      "35/35 [==============================] - 0s 2ms/step - loss: 27760436.0000 - val_loss: 25969110.0000\n",
      "Epoch 122/300\n",
      "35/35 [==============================] - 0s 2ms/step - loss: 27479936.0000 - val_loss: 25663944.0000\n",
      "Epoch 123/300\n",
      "35/35 [==============================] - 0s 2ms/step - loss: 27160020.0000 - val_loss: 25398734.0000\n",
      "Epoch 124/300\n",
      "35/35 [==============================] - 0s 2ms/step - loss: 26895294.0000 - val_loss: 25090220.0000\n",
      "Epoch 125/300\n",
      "35/35 [==============================] - 0s 2ms/step - loss: 26607400.0000 - val_loss: 24794730.0000\n",
      "Epoch 126/300\n",
      "35/35 [==============================] - 0s 2ms/step - loss: 26358688.0000 - val_loss: 24515362.0000\n",
      "Epoch 127/300\n",
      "35/35 [==============================] - 0s 2ms/step - loss: 26077734.0000 - val_loss: 24239452.0000\n",
      "Epoch 128/300\n",
      "35/35 [==============================] - 0s 2ms/step - loss: 25856138.0000 - val_loss: 23991914.0000\n",
      "Epoch 129/300\n",
      "35/35 [==============================] - 0s 2ms/step - loss: 25617564.0000 - val_loss: 23809368.0000\n",
      "Epoch 130/300\n",
      "35/35 [==============================] - 0s 2ms/step - loss: 25424220.0000 - val_loss: 23536238.0000\n",
      "Epoch 131/300\n",
      "35/35 [==============================] - 0s 2ms/step - loss: 25234156.0000 - val_loss: 23348126.0000\n",
      "Epoch 132/300\n",
      "35/35 [==============================] - 0s 2ms/step - loss: 25060642.0000 - val_loss: 23204114.0000\n",
      "Epoch 133/300\n",
      "35/35 [==============================] - 0s 2ms/step - loss: 24958066.0000 - val_loss: 23019906.0000\n",
      "Epoch 134/300\n",
      "35/35 [==============================] - 0s 2ms/step - loss: 24754400.0000 - val_loss: 22852102.0000\n",
      "Epoch 135/300\n",
      "35/35 [==============================] - 0s 2ms/step - loss: 24607582.0000 - val_loss: 22718248.0000\n",
      "Epoch 136/300\n",
      "35/35 [==============================] - 0s 2ms/step - loss: 24473414.0000 - val_loss: 22582310.0000\n",
      "Epoch 137/300\n",
      "35/35 [==============================] - 0s 2ms/step - loss: 24354562.0000 - val_loss: 22450914.0000\n",
      "Epoch 138/300\n",
      "35/35 [==============================] - 0s 2ms/step - loss: 24256392.0000 - val_loss: 22375472.0000\n",
      "Epoch 139/300\n",
      "35/35 [==============================] - 0s 2ms/step - loss: 24165720.0000 - val_loss: 22224868.0000\n",
      "Epoch 140/300\n",
      "35/35 [==============================] - 0s 2ms/step - loss: 24024126.0000 - val_loss: 22115318.0000\n",
      "Epoch 141/300\n",
      "35/35 [==============================] - 0s 2ms/step - loss: 23928446.0000 - val_loss: 21985714.0000\n",
      "Epoch 142/300\n",
      "35/35 [==============================] - 0s 2ms/step - loss: 23833392.0000 - val_loss: 21894202.0000\n",
      "Epoch 143/300\n"
     ]
    },
    {
     "name": "stdout",
     "output_type": "stream",
     "text": [
      "35/35 [==============================] - 0s 2ms/step - loss: 23710718.0000 - val_loss: 21762140.0000\n",
      "Epoch 144/300\n",
      "35/35 [==============================] - 0s 2ms/step - loss: 23591470.0000 - val_loss: 21693294.0000\n",
      "Epoch 145/300\n",
      "35/35 [==============================] - 0s 2ms/step - loss: 23498260.0000 - val_loss: 21568334.0000\n",
      "Epoch 146/300\n",
      "35/35 [==============================] - 0s 2ms/step - loss: 23386808.0000 - val_loss: 21442444.0000\n",
      "Epoch 147/300\n",
      "35/35 [==============================] - 0s 2ms/step - loss: 23291824.0000 - val_loss: 21350334.0000\n",
      "Epoch 148/300\n",
      "35/35 [==============================] - 0s 2ms/step - loss: 23212636.0000 - val_loss: 21271070.0000\n",
      "Epoch 149/300\n",
      "35/35 [==============================] - 0s 2ms/step - loss: 23151328.0000 - val_loss: 21189038.0000\n",
      "Epoch 150/300\n",
      "35/35 [==============================] - 0s 2ms/step - loss: 23043248.0000 - val_loss: 21112814.0000\n",
      "Epoch 151/300\n",
      "35/35 [==============================] - 0s 2ms/step - loss: 22987374.0000 - val_loss: 21046782.0000\n",
      "Epoch 152/300\n",
      "35/35 [==============================] - 0s 2ms/step - loss: 22901372.0000 - val_loss: 20966712.0000\n",
      "Epoch 153/300\n",
      "35/35 [==============================] - 0s 2ms/step - loss: 22813732.0000 - val_loss: 20917390.0000\n",
      "Epoch 154/300\n",
      "35/35 [==============================] - 0s 2ms/step - loss: 22742148.0000 - val_loss: 20830796.0000\n",
      "Epoch 155/300\n",
      "35/35 [==============================] - 0s 2ms/step - loss: 22668558.0000 - val_loss: 20879756.0000\n",
      "Epoch 156/300\n",
      "35/35 [==============================] - 0s 2ms/step - loss: 22604494.0000 - val_loss: 20686534.0000\n",
      "Epoch 157/300\n",
      "35/35 [==============================] - 0s 2ms/step - loss: 22560024.0000 - val_loss: 20696094.0000\n",
      "Epoch 158/300\n",
      "35/35 [==============================] - 0s 2ms/step - loss: 22443156.0000 - val_loss: 20530942.0000\n",
      "Epoch 159/300\n",
      "35/35 [==============================] - 0s 2ms/step - loss: 22393982.0000 - val_loss: 20471966.0000\n",
      "Epoch 160/300\n",
      "35/35 [==============================] - 0s 2ms/step - loss: 22305592.0000 - val_loss: 20403848.0000\n",
      "Epoch 161/300\n",
      "35/35 [==============================] - 0s 2ms/step - loss: 22253484.0000 - val_loss: 20348148.0000\n",
      "Epoch 162/300\n",
      "35/35 [==============================] - 0s 2ms/step - loss: 22147706.0000 - val_loss: 20373206.0000\n",
      "Epoch 163/300\n",
      "35/35 [==============================] - 0s 2ms/step - loss: 22152604.0000 - val_loss: 20256208.0000\n",
      "Epoch 164/300\n",
      "35/35 [==============================] - 0s 2ms/step - loss: 22061580.0000 - val_loss: 20153500.0000\n",
      "Epoch 165/300\n",
      "35/35 [==============================] - 0s 2ms/step - loss: 21988670.0000 - val_loss: 20090214.0000\n",
      "Epoch 166/300\n",
      "35/35 [==============================] - 0s 2ms/step - loss: 21943738.0000 - val_loss: 20070158.0000\n",
      "Epoch 167/300\n",
      "35/35 [==============================] - 0s 2ms/step - loss: 21874710.0000 - val_loss: 19991894.0000\n",
      "Epoch 168/300\n",
      "35/35 [==============================] - 0s 2ms/step - loss: 21854928.0000 - val_loss: 19948972.0000\n",
      "Epoch 169/300\n",
      "35/35 [==============================] - 0s 2ms/step - loss: 21783684.0000 - val_loss: 19911798.0000\n",
      "Epoch 170/300\n",
      "35/35 [==============================] - 0s 2ms/step - loss: 21766472.0000 - val_loss: 19970674.0000\n",
      "Epoch 171/300\n",
      "35/35 [==============================] - 0s 2ms/step - loss: 21704632.0000 - val_loss: 19840170.0000\n",
      "Epoch 172/300\n",
      "35/35 [==============================] - 0s 2ms/step - loss: 21683000.0000 - val_loss: 19811876.0000\n",
      "Epoch 173/300\n",
      "35/35 [==============================] - 0s 2ms/step - loss: 21642988.0000 - val_loss: 19776766.0000\n",
      "Epoch 174/300\n",
      "35/35 [==============================] - 0s 2ms/step - loss: 21603282.0000 - val_loss: 19748614.0000\n",
      "Epoch 175/300\n",
      "35/35 [==============================] - 0s 2ms/step - loss: 21569590.0000 - val_loss: 19762096.0000\n",
      "Epoch 176/300\n",
      "35/35 [==============================] - 0s 2ms/step - loss: 21553034.0000 - val_loss: 19755850.0000\n",
      "Epoch 177/300\n",
      "35/35 [==============================] - 0s 2ms/step - loss: 21501620.0000 - val_loss: 19669344.0000\n",
      "Epoch 178/300\n",
      "35/35 [==============================] - 0s 2ms/step - loss: 21481254.0000 - val_loss: 19642284.0000\n",
      "Epoch 179/300\n",
      "35/35 [==============================] - 0s 2ms/step - loss: 21438796.0000 - val_loss: 19620070.0000\n",
      "Epoch 180/300\n",
      "35/35 [==============================] - 0s 2ms/step - loss: 21406824.0000 - val_loss: 19648316.0000\n",
      "Epoch 181/300\n",
      "35/35 [==============================] - 0s 2ms/step - loss: 21394230.0000 - val_loss: 19605980.0000\n",
      "Epoch 182/300\n",
      "35/35 [==============================] - 0s 2ms/step - loss: 21362328.0000 - val_loss: 19555320.0000\n",
      "Epoch 183/300\n",
      "35/35 [==============================] - 0s 2ms/step - loss: 21327746.0000 - val_loss: 19680310.0000\n",
      "Epoch 184/300\n",
      "35/35 [==============================] - 0s 2ms/step - loss: 21310076.0000 - val_loss: 19508464.0000\n",
      "Epoch 185/300\n",
      "35/35 [==============================] - 0s 2ms/step - loss: 21253932.0000 - val_loss: 19483938.0000\n",
      "Epoch 186/300\n",
      "35/35 [==============================] - 0s 2ms/step - loss: 21227374.0000 - val_loss: 19463174.0000\n",
      "Epoch 187/300\n",
      "35/35 [==============================] - 0s 2ms/step - loss: 21239098.0000 - val_loss: 19446892.0000\n",
      "Epoch 188/300\n",
      "35/35 [==============================] - 0s 2ms/step - loss: 21195150.0000 - val_loss: 19423584.0000\n",
      "Epoch 189/300\n",
      "35/35 [==============================] - 0s 2ms/step - loss: 21159496.0000 - val_loss: 19404496.0000\n",
      "Epoch 190/300\n",
      "35/35 [==============================] - 0s 2ms/step - loss: 21130830.0000 - val_loss: 19378814.0000\n",
      "Epoch 191/300\n",
      "35/35 [==============================] - 0s 2ms/step - loss: 21110880.0000 - val_loss: 19359086.0000\n",
      "Epoch 192/300\n",
      "35/35 [==============================] - 0s 2ms/step - loss: 21068826.0000 - val_loss: 19337922.0000\n",
      "Epoch 193/300\n",
      "35/35 [==============================] - 0s 2ms/step - loss: 21036812.0000 - val_loss: 19375766.0000\n",
      "Epoch 194/300\n",
      "35/35 [==============================] - 0s 2ms/step - loss: 21027214.0000 - val_loss: 19287514.0000\n",
      "Epoch 195/300\n",
      "35/35 [==============================] - 0s 2ms/step - loss: 20999628.0000 - val_loss: 19293222.0000\n",
      "Epoch 196/300\n",
      "35/35 [==============================] - 0s 2ms/step - loss: 20956778.0000 - val_loss: 19244538.0000\n",
      "Epoch 197/300\n",
      "35/35 [==============================] - 0s 2ms/step - loss: 20937276.0000 - val_loss: 19222956.0000\n",
      "Epoch 198/300\n",
      "35/35 [==============================] - 0s 2ms/step - loss: 20923576.0000 - val_loss: 19274404.0000\n",
      "Epoch 199/300\n",
      "35/35 [==============================] - 0s 2ms/step - loss: 20894892.0000 - val_loss: 19180524.0000\n",
      "Epoch 200/300\n",
      "35/35 [==============================] - 0s 2ms/step - loss: 20886552.0000 - val_loss: 19183804.0000\n",
      "Epoch 201/300\n",
      "35/35 [==============================] - 0s 2ms/step - loss: 20856642.0000 - val_loss: 19140696.0000\n",
      "Epoch 202/300\n",
      "35/35 [==============================] - 0s 2ms/step - loss: 20828704.0000 - val_loss: 19149770.0000\n",
      "Epoch 203/300\n",
      "35/35 [==============================] - 0s 2ms/step - loss: 20849668.0000 - val_loss: 19112972.0000\n",
      "Epoch 204/300\n",
      "35/35 [==============================] - 0s 2ms/step - loss: 20798660.0000 - val_loss: 19114794.0000\n",
      "Epoch 205/300\n",
      "35/35 [==============================] - 0s 2ms/step - loss: 20776338.0000 - val_loss: 19078324.0000\n",
      "Epoch 206/300\n",
      "35/35 [==============================] - 0s 2ms/step - loss: 20752706.0000 - val_loss: 19043816.0000\n",
      "Epoch 207/300\n",
      "35/35 [==============================] - 0s 2ms/step - loss: 20704146.0000 - val_loss: 19068444.0000\n",
      "Epoch 208/300\n",
      "35/35 [==============================] - 0s 2ms/step - loss: 20707768.0000 - val_loss: 19052466.0000\n",
      "Epoch 209/300\n",
      "35/35 [==============================] - 0s 2ms/step - loss: 20673652.0000 - val_loss: 19028096.0000\n",
      "Epoch 210/300\n",
      "35/35 [==============================] - 0s 2ms/step - loss: 20660154.0000 - val_loss: 18991040.0000\n",
      "Epoch 211/300\n",
      "35/35 [==============================] - 0s 2ms/step - loss: 20635410.0000 - val_loss: 18956280.0000\n",
      "Epoch 212/300\n",
      "35/35 [==============================] - 0s 2ms/step - loss: 20615884.0000 - val_loss: 18935524.0000\n",
      "Epoch 213/300\n",
      "35/35 [==============================] - 0s 2ms/step - loss: 20590504.0000 - val_loss: 18929064.0000\n",
      "Epoch 214/300\n"
     ]
    },
    {
     "name": "stdout",
     "output_type": "stream",
     "text": [
      "35/35 [==============================] - 0s 2ms/step - loss: 20570814.0000 - val_loss: 18935166.0000\n",
      "Epoch 215/300\n",
      "35/35 [==============================] - 0s 2ms/step - loss: 20560996.0000 - val_loss: 18888046.0000\n",
      "Epoch 216/300\n",
      "35/35 [==============================] - 0s 2ms/step - loss: 20576230.0000 - val_loss: 18893356.0000\n",
      "Epoch 217/300\n",
      "35/35 [==============================] - 0s 2ms/step - loss: 20515196.0000 - val_loss: 18953944.0000\n",
      "Epoch 218/300\n",
      "35/35 [==============================] - 0s 2ms/step - loss: 20534192.0000 - val_loss: 18897526.0000\n",
      "Epoch 219/300\n",
      "35/35 [==============================] - 0s 2ms/step - loss: 20486674.0000 - val_loss: 18823536.0000\n",
      "Epoch 220/300\n",
      "35/35 [==============================] - 0s 2ms/step - loss: 20476568.0000 - val_loss: 18810106.0000\n",
      "Epoch 221/300\n",
      "35/35 [==============================] - 0s 2ms/step - loss: 20462988.0000 - val_loss: 18800542.0000\n",
      "Epoch 222/300\n",
      "35/35 [==============================] - 0s 2ms/step - loss: 20423406.0000 - val_loss: 18913874.0000\n",
      "Epoch 223/300\n",
      "35/35 [==============================] - 0s 2ms/step - loss: 20411722.0000 - val_loss: 18804586.0000\n",
      "Epoch 224/300\n",
      "35/35 [==============================] - 0s 2ms/step - loss: 20444360.0000 - val_loss: 18785752.0000\n",
      "Epoch 225/300\n",
      "35/35 [==============================] - 0s 2ms/step - loss: 20410688.0000 - val_loss: 18766612.0000\n",
      "Epoch 226/300\n",
      "35/35 [==============================] - 0s 2ms/step - loss: 20359566.0000 - val_loss: 18730024.0000\n",
      "Epoch 227/300\n",
      "35/35 [==============================] - 0s 2ms/step - loss: 20356014.0000 - val_loss: 18716684.0000\n",
      "Epoch 228/300\n",
      "35/35 [==============================] - 0s 2ms/step - loss: 20348234.0000 - val_loss: 18696144.0000\n",
      "Epoch 229/300\n",
      "35/35 [==============================] - 0s 2ms/step - loss: 20330660.0000 - val_loss: 18676640.0000\n",
      "Epoch 230/300\n",
      "35/35 [==============================] - 0s 2ms/step - loss: 20320918.0000 - val_loss: 18674054.0000\n",
      "Epoch 231/300\n",
      "35/35 [==============================] - 0s 2ms/step - loss: 20318582.0000 - val_loss: 18713548.0000\n",
      "Epoch 232/300\n",
      "35/35 [==============================] - 0s 2ms/step - loss: 20280374.0000 - val_loss: 18637638.0000\n",
      "Epoch 233/300\n",
      "35/35 [==============================] - 0s 2ms/step - loss: 20250254.0000 - val_loss: 18626934.0000\n",
      "Epoch 234/300\n",
      "35/35 [==============================] - 0s 2ms/step - loss: 20261102.0000 - val_loss: 18647342.0000\n",
      "Epoch 235/300\n",
      "35/35 [==============================] - 0s 2ms/step - loss: 20244894.0000 - val_loss: 18599742.0000\n",
      "Epoch 236/300\n",
      "35/35 [==============================] - 0s 2ms/step - loss: 20221604.0000 - val_loss: 18586332.0000\n",
      "Epoch 237/300\n",
      "35/35 [==============================] - 0s 2ms/step - loss: 20199932.0000 - val_loss: 18578104.0000\n",
      "Epoch 238/300\n",
      "35/35 [==============================] - 0s 2ms/step - loss: 20184676.0000 - val_loss: 18565954.0000\n",
      "Epoch 239/300\n",
      "35/35 [==============================] - 0s 2ms/step - loss: 20193530.0000 - val_loss: 18553422.0000\n",
      "Epoch 240/300\n",
      "35/35 [==============================] - 0s 2ms/step - loss: 20166610.0000 - val_loss: 18540160.0000\n",
      "Epoch 241/300\n",
      "35/35 [==============================] - 0s 2ms/step - loss: 20151768.0000 - val_loss: 18530282.0000\n",
      "Epoch 242/300\n",
      "35/35 [==============================] - 0s 2ms/step - loss: 20151492.0000 - val_loss: 18519780.0000\n",
      "Epoch 243/300\n",
      "35/35 [==============================] - 0s 2ms/step - loss: 20114058.0000 - val_loss: 18538212.0000\n",
      "Epoch 244/300\n",
      "35/35 [==============================] - 0s 2ms/step - loss: 20111804.0000 - val_loss: 18496044.0000\n",
      "Epoch 245/300\n",
      "35/35 [==============================] - 0s 2ms/step - loss: 20087064.0000 - val_loss: 18482296.0000\n",
      "Epoch 246/300\n",
      "35/35 [==============================] - 0s 2ms/step - loss: 20076876.0000 - val_loss: 18488192.0000\n",
      "Epoch 247/300\n",
      "35/35 [==============================] - 0s 2ms/step - loss: 20054572.0000 - val_loss: 18549642.0000\n",
      "Epoch 248/300\n",
      "35/35 [==============================] - 0s 2ms/step - loss: 20076714.0000 - val_loss: 18481706.0000\n",
      "Epoch 249/300\n",
      "35/35 [==============================] - 0s 2ms/step - loss: 20047620.0000 - val_loss: 18442130.0000\n",
      "Epoch 250/300\n",
      "35/35 [==============================] - 0s 2ms/step - loss: 20024566.0000 - val_loss: 18424916.0000\n",
      "Epoch 251/300\n",
      "35/35 [==============================] - 0s 2ms/step - loss: 20034522.0000 - val_loss: 18413664.0000\n",
      "Epoch 252/300\n",
      "35/35 [==============================] - 0s 2ms/step - loss: 20012322.0000 - val_loss: 18405890.0000\n",
      "Epoch 253/300\n",
      "35/35 [==============================] - 0s 2ms/step - loss: 19991934.0000 - val_loss: 18403554.0000\n",
      "Epoch 254/300\n",
      "35/35 [==============================] - 0s 2ms/step - loss: 19993622.0000 - val_loss: 18388268.0000\n",
      "Epoch 255/300\n",
      "35/35 [==============================] - 0s 2ms/step - loss: 19988850.0000 - val_loss: 18392968.0000\n",
      "Epoch 256/300\n",
      "35/35 [==============================] - 0s 2ms/step - loss: 19966800.0000 - val_loss: 18386528.0000\n",
      "Epoch 257/300\n",
      "35/35 [==============================] - 0s 2ms/step - loss: 19956612.0000 - val_loss: 18355050.0000\n",
      "Epoch 258/300\n",
      "35/35 [==============================] - 0s 2ms/step - loss: 19960492.0000 - val_loss: 18349804.0000\n",
      "Epoch 259/300\n",
      "35/35 [==============================] - 0s 2ms/step - loss: 19948828.0000 - val_loss: 18345854.0000\n",
      "Epoch 260/300\n",
      "35/35 [==============================] - 0s 2ms/step - loss: 19915150.0000 - val_loss: 18333028.0000\n",
      "Epoch 261/300\n",
      "35/35 [==============================] - 0s 2ms/step - loss: 19917074.0000 - val_loss: 18329404.0000\n",
      "Epoch 262/300\n",
      "35/35 [==============================] - 0s 2ms/step - loss: 19899886.0000 - val_loss: 18327600.0000\n",
      "Epoch 263/300\n",
      "35/35 [==============================] - 0s 2ms/step - loss: 19897202.0000 - val_loss: 18319122.0000\n",
      "Epoch 264/300\n",
      "35/35 [==============================] - 0s 2ms/step - loss: 19876698.0000 - val_loss: 18310440.0000\n",
      "Epoch 265/300\n",
      "35/35 [==============================] - 0s 2ms/step - loss: 19896576.0000 - val_loss: 18284280.0000\n",
      "Epoch 266/300\n",
      "35/35 [==============================] - 0s 2ms/step - loss: 19842604.0000 - val_loss: 18332856.0000\n",
      "Epoch 267/300\n",
      "35/35 [==============================] - 0s 2ms/step - loss: 19836178.0000 - val_loss: 18285872.0000\n",
      "Epoch 268/300\n",
      "35/35 [==============================] - 0s 2ms/step - loss: 19829140.0000 - val_loss: 18256184.0000\n",
      "Epoch 269/300\n",
      "35/35 [==============================] - 0s 2ms/step - loss: 19843678.0000 - val_loss: 18268580.0000\n",
      "Epoch 270/300\n",
      "35/35 [==============================] - 0s 2ms/step - loss: 19819490.0000 - val_loss: 18239410.0000\n",
      "Epoch 271/300\n",
      "35/35 [==============================] - 0s 2ms/step - loss: 19794184.0000 - val_loss: 18239766.0000\n",
      "Epoch 272/300\n",
      "35/35 [==============================] - 0s 2ms/step - loss: 19791216.0000 - val_loss: 18233084.0000\n",
      "Epoch 273/300\n",
      "35/35 [==============================] - 0s 2ms/step - loss: 19780732.0000 - val_loss: 18218366.0000\n",
      "Epoch 274/300\n",
      "35/35 [==============================] - 0s 2ms/step - loss: 19773768.0000 - val_loss: 18205340.0000\n",
      "Epoch 275/300\n",
      "35/35 [==============================] - 0s 2ms/step - loss: 19786842.0000 - val_loss: 18199048.0000\n",
      "Epoch 276/300\n",
      "35/35 [==============================] - 0s 2ms/step - loss: 19783068.0000 - val_loss: 18260972.0000\n",
      "Epoch 277/300\n",
      "35/35 [==============================] - 0s 2ms/step - loss: 19766628.0000 - val_loss: 18183546.0000\n",
      "Epoch 278/300\n",
      "35/35 [==============================] - 0s 2ms/step - loss: 19757532.0000 - val_loss: 18176874.0000\n",
      "Epoch 279/300\n",
      "35/35 [==============================] - 0s 2ms/step - loss: 19726634.0000 - val_loss: 18218552.0000\n",
      "Epoch 280/300\n",
      "35/35 [==============================] - 0s 2ms/step - loss: 19746334.0000 - val_loss: 18164832.0000\n",
      "Epoch 281/300\n",
      "35/35 [==============================] - 0s 2ms/step - loss: 19724494.0000 - val_loss: 18188482.0000\n",
      "Epoch 282/300\n",
      "35/35 [==============================] - 0s 2ms/step - loss: 19730232.0000 - val_loss: 18144186.0000\n",
      "Epoch 283/300\n",
      "35/35 [==============================] - 0s 2ms/step - loss: 19693186.0000 - val_loss: 18145576.0000\n",
      "Epoch 284/300\n",
      "35/35 [==============================] - 0s 2ms/step - loss: 19689190.0000 - val_loss: 18170326.0000\n",
      "Epoch 285/300\n"
     ]
    },
    {
     "name": "stdout",
     "output_type": "stream",
     "text": [
      "35/35 [==============================] - 0s 2ms/step - loss: 19680518.0000 - val_loss: 18122770.0000\n",
      "Epoch 286/300\n",
      "35/35 [==============================] - 0s 2ms/step - loss: 19668904.0000 - val_loss: 18125666.0000\n",
      "Epoch 287/300\n",
      "35/35 [==============================] - 0s 2ms/step - loss: 19646458.0000 - val_loss: 18163870.0000\n",
      "Epoch 288/300\n",
      "35/35 [==============================] - 0s 2ms/step - loss: 19666840.0000 - val_loss: 18160880.0000\n",
      "Epoch 289/300\n",
      "35/35 [==============================] - 0s 2ms/step - loss: 19646908.0000 - val_loss: 18163090.0000\n",
      "Epoch 290/300\n",
      "35/35 [==============================] - 0s 2ms/step - loss: 19638498.0000 - val_loss: 18177564.0000\n",
      "Epoch 291/300\n",
      "35/35 [==============================] - 0s 2ms/step - loss: 19634412.0000 - val_loss: 18190232.0000\n",
      "Epoch 292/300\n",
      "35/35 [==============================] - 0s 2ms/step - loss: 19664778.0000 - val_loss: 18128672.0000\n",
      "Epoch 293/300\n",
      "35/35 [==============================] - 0s 2ms/step - loss: 19609500.0000 - val_loss: 18127480.0000\n",
      "Epoch 294/300\n",
      "35/35 [==============================] - 0s 2ms/step - loss: 19617976.0000 - val_loss: 18078930.0000\n",
      "Epoch 295/300\n",
      "35/35 [==============================] - 0s 2ms/step - loss: 19606838.0000 - val_loss: 18052072.0000\n",
      "Epoch 296/300\n",
      "35/35 [==============================] - 0s 2ms/step - loss: 19582042.0000 - val_loss: 18047722.0000\n",
      "Epoch 297/300\n",
      "35/35 [==============================] - 0s 2ms/step - loss: 19569824.0000 - val_loss: 18106498.0000\n",
      "Epoch 298/300\n",
      "35/35 [==============================] - 0s 2ms/step - loss: 19595838.0000 - val_loss: 18060694.0000\n",
      "Epoch 299/300\n",
      "35/35 [==============================] - 0s 2ms/step - loss: 19564962.0000 - val_loss: 18028264.0000\n",
      "Epoch 300/300\n",
      "35/35 [==============================] - 0s 2ms/step - loss: 19570988.0000 - val_loss: 18043542.0000\n"
     ]
    },
    {
     "data": {
      "text/plain": [
       "<keras.callbacks.History at 0x22149088490>"
      ]
     },
     "execution_count": 45,
     "metadata": {},
     "output_type": "execute_result"
    }
   ],
   "source": [
    "model.fit(x=X_train, y=y_train, validation_data=(X_test, y_test), batch_size=250, epochs=300)"
   ]
  },
  {
   "cell_type": "code",
   "execution_count": 46,
   "id": "d47077fa",
   "metadata": {},
   "outputs": [],
   "source": [
    "lossData = pd.DataFrame(data=model.history.history)"
   ]
  },
  {
   "cell_type": "code",
   "execution_count": 47,
   "id": "0b11313d",
   "metadata": {},
   "outputs": [
    {
     "data": {
      "text/html": [
       "<div>\n",
       "<style scoped>\n",
       "    .dataframe tbody tr th:only-of-type {\n",
       "        vertical-align: middle;\n",
       "    }\n",
       "\n",
       "    .dataframe tbody tr th {\n",
       "        vertical-align: top;\n",
       "    }\n",
       "\n",
       "    .dataframe thead th {\n",
       "        text-align: right;\n",
       "    }\n",
       "</style>\n",
       "<table border=\"1\" class=\"dataframe\">\n",
       "  <thead>\n",
       "    <tr style=\"text-align: right;\">\n",
       "      <th></th>\n",
       "      <th>loss</th>\n",
       "      <th>val_loss</th>\n",
       "    </tr>\n",
       "  </thead>\n",
       "  <tbody>\n",
       "    <tr>\n",
       "      <th>0</th>\n",
       "      <td>676091008.0</td>\n",
       "      <td>678591616.0</td>\n",
       "    </tr>\n",
       "    <tr>\n",
       "      <th>1</th>\n",
       "      <td>676045760.0</td>\n",
       "      <td>678519872.0</td>\n",
       "    </tr>\n",
       "    <tr>\n",
       "      <th>2</th>\n",
       "      <td>675922880.0</td>\n",
       "      <td>678313408.0</td>\n",
       "    </tr>\n",
       "    <tr>\n",
       "      <th>3</th>\n",
       "      <td>675539520.0</td>\n",
       "      <td>677650944.0</td>\n",
       "    </tr>\n",
       "    <tr>\n",
       "      <th>4</th>\n",
       "      <td>674393472.0</td>\n",
       "      <td>675813440.0</td>\n",
       "    </tr>\n",
       "  </tbody>\n",
       "</table>\n",
       "</div>"
      ],
      "text/plain": [
       "          loss     val_loss\n",
       "0  676091008.0  678591616.0\n",
       "1  676045760.0  678519872.0\n",
       "2  675922880.0  678313408.0\n",
       "3  675539520.0  677650944.0\n",
       "4  674393472.0  675813440.0"
      ]
     },
     "execution_count": 47,
     "metadata": {},
     "output_type": "execute_result"
    }
   ],
   "source": [
    "lossData.head()"
   ]
  },
  {
   "cell_type": "code",
   "execution_count": 48,
   "id": "888b40fb",
   "metadata": {},
   "outputs": [
    {
     "data": {
      "text/plain": [
       "<AxesSubplot:>"
      ]
     },
     "execution_count": 48,
     "metadata": {},
     "output_type": "execute_result"
    },
    {
     "data": {
      "image/png": "[encoded data removed]",
      "text/plain": [
       "<Figure size 432x288 with 1 Axes>"
      ]
     },
     "metadata": {
      "needs_background": "light"
     },
     "output_type": "display_data"
    }
   ],
   "source": [
    "lossData.plot()"
   ]
  },
  {
   "cell_type": "code",
   "execution_count": 49,
   "id": "c9daee69",
   "metadata": {},
   "outputs": [],
   "source": [
    "from sklearn.metrics import mean_squared_error, mean_absolute_error"
   ]
  },
  {
   "cell_type": "code",
   "execution_count": 50,
   "id": "fa8ff366",
   "metadata": {},
   "outputs": [
    {
     "name": "stdout",
     "output_type": "stream",
     "text": [
      "134/134 [==============================] - 0s 669us/step\n"
     ]
    }
   ],
   "source": [
    "predictArrays = model.predict(X_test)"
   ]
  },
  {
   "cell_type": "code",
   "execution_count": 51,
   "id": "c9b824fc",
   "metadata": {},
   "outputs": [
    {
     "data": {
      "text/plain": [
       "3072.396193183475"
      ]
     },
     "execution_count": 51,
     "metadata": {},
     "output_type": "execute_result"
    }
   ],
   "source": [
    "mean_absolute_error(y_test, predictArrays)"
   ]
  },
  {
   "cell_type": "code",
   "execution_count": 52,
   "id": "d1491f06",
   "metadata": {},
   "outputs": [
    {
     "data": {
      "text/html": [
       "<div>\n",
       "<style scoped>\n",
       "    .dataframe tbody tr th:only-of-type {\n",
       "        vertical-align: middle;\n",
       "    }\n",
       "\n",
       "    .dataframe tbody tr th {\n",
       "        vertical-align: top;\n",
       "    }\n",
       "\n",
       "    .dataframe thead th {\n",
       "        text-align: right;\n",
       "    }\n",
       "</style>\n",
       "<table border=\"1\" class=\"dataframe\">\n",
       "  <thead>\n",
       "    <tr style=\"text-align: right;\">\n",
       "      <th></th>\n",
       "      <th>year</th>\n",
       "      <th>price</th>\n",
       "      <th>mileage</th>\n",
       "      <th>tax</th>\n",
       "      <th>mpg</th>\n",
       "      <th>engineSize</th>\n",
       "    </tr>\n",
       "  </thead>\n",
       "  <tbody>\n",
       "    <tr>\n",
       "      <th>count</th>\n",
       "      <td>12987.000000</td>\n",
       "      <td>12987.000000</td>\n",
       "      <td>12987.000000</td>\n",
       "      <td>12987.000000</td>\n",
       "      <td>12987.000000</td>\n",
       "      <td>12987.000000</td>\n",
       "    </tr>\n",
       "    <tr>\n",
       "      <th>mean</th>\n",
       "      <td>2017.285516</td>\n",
       "      <td>24074.855779</td>\n",
       "      <td>22133.367367</td>\n",
       "      <td>129.676215</td>\n",
       "      <td>55.438392</td>\n",
       "      <td>2.051059</td>\n",
       "    </tr>\n",
       "    <tr>\n",
       "      <th>std</th>\n",
       "      <td>2.189633</td>\n",
       "      <td>9866.601115</td>\n",
       "      <td>21197.472376</td>\n",
       "      <td>65.167429</td>\n",
       "      <td>15.025902</td>\n",
       "      <td>0.532313</td>\n",
       "    </tr>\n",
       "    <tr>\n",
       "      <th>min</th>\n",
       "      <td>1997.000000</td>\n",
       "      <td>650.000000</td>\n",
       "      <td>1.000000</td>\n",
       "      <td>0.000000</td>\n",
       "      <td>1.100000</td>\n",
       "      <td>0.000000</td>\n",
       "    </tr>\n",
       "    <tr>\n",
       "      <th>25%</th>\n",
       "      <td>2016.000000</td>\n",
       "      <td>17355.000000</td>\n",
       "      <td>6320.000000</td>\n",
       "      <td>125.000000</td>\n",
       "      <td>45.600000</td>\n",
       "      <td>1.700000</td>\n",
       "    </tr>\n",
       "    <tr>\n",
       "      <th>50%</th>\n",
       "      <td>2018.000000</td>\n",
       "      <td>22299.000000</td>\n",
       "      <td>15371.000000</td>\n",
       "      <td>145.000000</td>\n",
       "      <td>56.500000</td>\n",
       "      <td>2.000000</td>\n",
       "    </tr>\n",
       "    <tr>\n",
       "      <th>75%</th>\n",
       "      <td>2019.000000</td>\n",
       "      <td>28706.000000</td>\n",
       "      <td>31986.500000</td>\n",
       "      <td>145.000000</td>\n",
       "      <td>64.200000</td>\n",
       "      <td>2.100000</td>\n",
       "    </tr>\n",
       "    <tr>\n",
       "      <th>max</th>\n",
       "      <td>2020.000000</td>\n",
       "      <td>65990.000000</td>\n",
       "      <td>259000.000000</td>\n",
       "      <td>580.000000</td>\n",
       "      <td>217.300000</td>\n",
       "      <td>6.200000</td>\n",
       "    </tr>\n",
       "  </tbody>\n",
       "</table>\n",
       "</div>"
      ],
      "text/plain": [
       "               year         price        mileage           tax           mpg  \\\n",
       "count  12987.000000  12987.000000   12987.000000  12987.000000  12987.000000   \n",
       "mean    2017.285516  24074.855779   22133.367367    129.676215     55.438392   \n",
       "std        2.189633   9866.601115   21197.472376     65.167429     15.025902   \n",
       "min     1997.000000    650.000000       1.000000      0.000000      1.100000   \n",
       "25%     2016.000000  17355.000000    6320.000000    125.000000     45.600000   \n",
       "50%     2018.000000  22299.000000   15371.000000    145.000000     56.500000   \n",
       "75%     2019.000000  28706.000000   31986.500000    145.000000     64.200000   \n",
       "max     2020.000000  65990.000000  259000.000000    580.000000    217.300000   \n",
       "\n",
       "         engineSize  \n",
       "count  12987.000000  \n",
       "mean       2.051059  \n",
       "std        0.532313  \n",
       "min        0.000000  \n",
       "25%        1.700000  \n",
       "50%        2.000000  \n",
       "75%        2.100000  \n",
       "max        6.200000  "
      ]
     },
     "execution_count": 52,
     "metadata": {},
     "output_type": "execute_result"
    }
   ],
   "source": [
    "df.describe()"
   ]
  },
  {
   "cell_type": "markdown",
   "id": "872caab3",
   "metadata": {},
   "source": [
    "### Ortalama fiyatimizdan %13'luk gibi bir sapma gozlemleyebiliriz!"
   ]
  },
  {
   "cell_type": "code",
   "execution_count": 53,
   "id": "cdf7fc10",
   "metadata": {},
   "outputs": [
    {
     "data": {
      "text/plain": [
       "[<matplotlib.lines.Line2D at 0x2215245dac0>]"
      ]
     },
     "execution_count": 53,
     "metadata": {},
     "output_type": "execute_result"
    },
    {
     "data": {
      "image/png": "[encoded data removed]",
      "text/plain": [
       "<Figure size 600x400 with 1 Axes>"
      ]
     },
     "metadata": {
      "needs_background": "light"
     },
     "output_type": "display_data"
    }
   ],
   "source": [
    "plt.figure(dpi=100)\n",
    "plt.scatter(y_test, predictArrays)\n",
    "plt.plot(y_test, y_test, 'r', linewidth=3)"
   ]
  },
  {
   "cell_type": "markdown",
   "id": "25fd408e",
   "metadata": {},
   "source": [
    "### Data Frame'den bir veri cikartip tahmin etmesi icin geri verelim;"
   ]
  },
  {
   "cell_type": "code",
   "execution_count": 54,
   "id": "9e877ca3",
   "metadata": {},
   "outputs": [
    {
     "data": {
      "text/plain": [
       "year           2020.0\n",
       "price         65980.0\n",
       "mileage        3999.0\n",
       "tax             145.0\n",
       "mpg              28.0\n",
       "engineSize        4.0\n",
       "Name: 3191, dtype: float64"
      ]
     },
     "execution_count": 54,
     "metadata": {},
     "output_type": "execute_result"
    }
   ],
   "source": [
    "df.iloc[2]"
   ]
  },
  {
   "cell_type": "code",
   "execution_count": 55,
   "id": "295d84b6",
   "metadata": {},
   "outputs": [],
   "source": [
    "newCarSeries = df.drop('price', axis=1).iloc[2]"
   ]
  },
  {
   "cell_type": "code",
   "execution_count": 56,
   "id": "701e1c85",
   "metadata": {},
   "outputs": [
    {
     "data": {
      "text/plain": [
       "year          2020.0\n",
       "mileage       3999.0\n",
       "tax            145.0\n",
       "mpg             28.0\n",
       "engineSize       4.0\n",
       "Name: 3191, dtype: float64"
      ]
     },
     "execution_count": 56,
     "metadata": {},
     "output_type": "execute_result"
    }
   ],
   "source": [
    "newCarSeries"
   ]
  },
  {
   "cell_type": "markdown",
   "id": "b26e732b",
   "metadata": {},
   "source": [
    "### araba features'lerini modelimize verelim;"
   ]
  },
  {
   "cell_type": "code",
   "execution_count": 57,
   "id": "83fe598b",
   "metadata": {},
   "outputs": [],
   "source": [
    "newCarSeries = scaler.transform(newCarSeries.values.reshape(-1, 5))"
   ]
  },
  {
   "cell_type": "code",
   "execution_count": 58,
   "id": "8dd65e21",
   "metadata": {},
   "outputs": [
    {
     "data": {
      "text/plain": [
       "array([[1.        , 0.01543635, 0.25      , 0.14369658, 0.64516129]])"
      ]
     },
     "execution_count": 58,
     "metadata": {},
     "output_type": "execute_result"
    }
   ],
   "source": [
    "newCarSeries"
   ]
  },
  {
   "cell_type": "markdown",
   "id": "31deaa02",
   "metadata": {},
   "source": [
    "### Yeni arabamiza verdigi deger;"
   ]
  },
  {
   "cell_type": "code",
   "execution_count": 59,
   "id": "45f137b6",
   "metadata": {},
   "outputs": [
    {
     "name": "stdout",
     "output_type": "stream",
     "text": [
      "1/1 [==============================] - 0s 13ms/step\n"
     ]
    },
    {
     "data": {
      "text/plain": [
       "array([[62035.76]], dtype=float32)"
      ]
     },
     "execution_count": 59,
     "metadata": {},
     "output_type": "execute_result"
    }
   ],
   "source": [
    "model.predict(newCarSeries)"
   ]
  },
  {
   "cell_type": "code",
   "execution_count": null,
   "id": "4373443a",
   "metadata": {},
   "outputs": [],
   "source": []
  }
 ],
 "metadata": {
  "kernelspec": {
   "display_name": "Python 3 (ipykernel)",
   "language": "python",
   "name": "python3"
  },
  "language_info": {
   "codemirror_mode": {
    "name": "ipython",
    "version": 3
   },
   "file_extension": ".py",
   "mimetype": "text/x-python",
   "name": "python",
   "nbconvert_exporter": "python",
   "pygments_lexer": "ipython3",
   "version": "3.9.5"
  }
 },
 "nbformat": 4,
 "nbformat_minor": 5
}
